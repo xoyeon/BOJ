{
 "cells": [
  {
   "cell_type": "markdown",
   "id": "b5ecb269",
   "metadata": {},
   "source": [
    "021 문자열 인덱싱    \n",
    "letters가 바인딩하는 문자열에서 첫번째와 세번째 문자를 출력하세요.\n",
    "> letters = 'python'\n",
    "\n",
    ">실행 예\n",
    "> p t"
   ]
  },
  {
   "cell_type": "code",
   "execution_count": 1,
   "id": "4b8fcc81",
   "metadata": {},
   "outputs": [
    {
     "name": "stdout",
     "output_type": "stream",
     "text": [
      "p t\n"
     ]
    }
   ],
   "source": [
    "letters = 'python'\n",
    "print(letters[0], letters[2])"
   ]
  },
  {
   "cell_type": "markdown",
   "id": "17a6a76b",
   "metadata": {},
   "source": [
    "022 문자열 슬라이싱   \n",
    "자동차 번호가 다음과 같을 때 뒤에 4자리만 출력하세요.\n",
    "> license_plate = \"24가 2210\"   \n",
    "실행 예: 2210"
   ]
  },
  {
   "cell_type": "code",
   "execution_count": 2,
   "id": "c6e86591",
   "metadata": {},
   "outputs": [
    {
     "name": "stdout",
     "output_type": "stream",
     "text": [
      "2210\n"
     ]
    }
   ],
   "source": [
    "license_plate = \"24가 2210\"\n",
    "print(license_plate[-4:])"
   ]
  },
  {
   "cell_type": "markdown",
   "id": "ceb7b54b",
   "metadata": {},
   "source": [
    "023 문자열 인덱싱   \n",
    "아래의 문자열에서 '홀' 만 출력하세요.\n",
    "\n",
    "> string = \"홀짝홀짝홀짝\"\n",
    "\n",
    "> 실행 예:\n",
    "홀홀홀"
   ]
  },
  {
   "cell_type": "code",
   "execution_count": 3,
   "id": "0b68a730",
   "metadata": {},
   "outputs": [
    {
     "name": "stdout",
     "output_type": "stream",
     "text": [
      "홀홀홀\n"
     ]
    }
   ],
   "source": [
    "string = \"홀짝홀짝홀짝\"\n",
    "print(string[::2])\n",
    "# 시작인덱스:끝인덱스:오프셋"
   ]
  },
  {
   "cell_type": "markdown",
   "id": "7b1020c1",
   "metadata": {},
   "source": [
    "024 문자열 슬라이싱   \n",
    "문자열을 거꾸로 뒤집어 출력하세요.\n",
    "\n",
    "> string = \"PYTHON\"\n",
    "\n",
    ">실행 예:\n",
    "NOHTYP"
   ]
  },
  {
   "cell_type": "code",
   "execution_count": 4,
   "id": "d01b27f6",
   "metadata": {},
   "outputs": [
    {
     "name": "stdout",
     "output_type": "stream",
     "text": [
      "NOHTYP\n"
     ]
    }
   ],
   "source": [
    "string = \"PYTHON\"\n",
    "print(string[::-1])"
   ]
  },
  {
   "cell_type": "markdown",
   "id": "54de630c",
   "metadata": {},
   "source": [
    "025 문자열 치환\n",
    "아래의 전화번호에서 하이푼 ('-')을 제거하고 출력하세요.\n",
    "> phone_number = \"010-1111-2222\"\n",
    "\n",
    ">실행 예\n",
    "010 1111 2222"
   ]
  },
  {
   "cell_type": "code",
   "execution_count": 5,
   "id": "665ad140",
   "metadata": {},
   "outputs": [
    {
     "data": {
      "text/plain": [
       "'010 1111 2222'"
      ]
     },
     "execution_count": 5,
     "metadata": {},
     "output_type": "execute_result"
    }
   ],
   "source": [
    "phone_number = \"010-1111-2222\"\n",
    "phone_number1 = phone_number.replace(\"-\",\" \")\n",
    "phone_number1"
   ]
  },
  {
   "cell_type": "markdown",
   "id": "2b0347c9",
   "metadata": {},
   "source": [
    "026 문자열 다루기   \n",
    "25번 문제의 전화번호를 아래와 같이 모두 붙여 출력하세요.\n",
    "\n",
    "> 실행 예\n",
    "01011112222"
   ]
  },
  {
   "cell_type": "code",
   "execution_count": 6,
   "id": "18bb3b02",
   "metadata": {},
   "outputs": [
    {
     "data": {
      "text/plain": [
       "'01011112222'"
      ]
     },
     "execution_count": 6,
     "metadata": {},
     "output_type": "execute_result"
    }
   ],
   "source": [
    "phone_number2 = phone_number.replace(\"-\",\"\")\n",
    "phone_number2"
   ]
  },
  {
   "cell_type": "markdown",
   "id": "9c667768",
   "metadata": {},
   "source": [
    "027 문자열 다루기   \n",
    "url 에 저장된 웹 페이지 주소에서 도메인을 출력하세요.\n",
    "\n",
    "> url = \"http://sharebook.kr\"\n",
    "\n",
    "> 실행 예:\n",
    "kr"
   ]
  },
  {
   "cell_type": "code",
   "execution_count": 7,
   "id": "2944c2ed",
   "metadata": {},
   "outputs": [
    {
     "name": "stdout",
     "output_type": "stream",
     "text": [
      "kr\n"
     ]
    }
   ],
   "source": [
    "url = \"http://sharebook.kr\"\n",
    "print(url[-2:])"
   ]
  },
  {
   "cell_type": "code",
   "execution_count": 8,
   "id": "d736053e",
   "metadata": {},
   "outputs": [
    {
     "name": "stdout",
     "output_type": "stream",
     "text": [
      "kr\n"
     ]
    }
   ],
   "source": [
    "# 정답\n",
    "url = \"http://sharebook.kr\"\n",
    "url_split = url.split('.')\n",
    "print(url_split[-1])"
   ]
  },
  {
   "cell_type": "markdown",
   "id": "c69d2e0e",
   "metadata": {},
   "source": [
    "028 문자열은 immutable\n",
    "아래 코드의 실행 결과를 예상해보세요.\n",
    "\n",
    "> lang = 'python'   \n",
    "> lang[0] = 'P'   \n",
    "> print(lang)"
   ]
  },
  {
   "cell_type": "markdown",
   "id": "24efedd9",
   "metadata": {},
   "source": [
    "---------------------------------------------------------------------------\n",
    "TypeError                                 Traceback (most recent call last)\n",
    "<ipython-input-35-ba8eb7824ab8> in <module>\n",
    "      1 lang = 'python'\n",
    "----> 2 lang[0] = 'P'\n",
    "      3 print(lang)\n",
    "\n",
    "TypeError: 'str' object does not support item assignment"
   ]
  },
  {
   "cell_type": "markdown",
   "id": "56ea9623",
   "metadata": {},
   "source": [
    "029 replace 메서드   \n",
    "아래 문자열에서 소문자 'a'를 대문자 'A'로 변경하세요.   \n",
    "\n",
    "> string = 'abcdfe2a354a32a'   \n",
    "> 실행 예:\n",
    "Abcdfe2A354A32A"
   ]
  },
  {
   "cell_type": "code",
   "execution_count": 9,
   "id": "6ba6fa12",
   "metadata": {},
   "outputs": [
    {
     "name": "stdout",
     "output_type": "stream",
     "text": [
      "Abcdfe2A354A32A\n"
     ]
    }
   ],
   "source": [
    "string = 'abcdfe2a354a32a'\n",
    "String = string.replace('a','A')\n",
    "print(String)"
   ]
  },
  {
   "cell_type": "markdown",
   "id": "03003df0",
   "metadata": {},
   "source": [
    "030 replace 메서드\n",
    "아래 코드의 실행 결과를 예상해보세요.\n",
    "\n",
    "> string = 'abcd'   \n",
    "> string.replace('b', 'B')   \n",
    "> print(string)"
   ]
  },
  {
   "cell_type": "code",
   "execution_count": 10,
   "id": "83423067",
   "metadata": {},
   "outputs": [
    {
     "name": "stdout",
     "output_type": "stream",
     "text": [
      "abcd\n"
     ]
    }
   ],
   "source": [
    "string = 'abcd'\n",
    "string.replace('b', 'B')\n",
    "print(string)"
   ]
  },
  {
   "cell_type": "markdown",
   "id": "113e95b9",
   "metadata": {},
   "source": [
    "031 문자열 합치기   \n",
    "아래 코드의 실행 결과를 예상해보세요.\n",
    "\n",
    "> a = \"3\"   \n",
    "> b = \"4\"   \n",
    "> print(a + b)"
   ]
  },
  {
   "cell_type": "code",
   "execution_count": 11,
   "id": "7c8856f5",
   "metadata": {},
   "outputs": [
    {
     "name": "stdout",
     "output_type": "stream",
     "text": [
      "34\n"
     ]
    }
   ],
   "source": [
    "a = \"3\"\n",
    "b = \"4\"\n",
    "print(a + b)"
   ]
  },
  {
   "cell_type": "markdown",
   "id": "61c54cd4",
   "metadata": {},
   "source": [
    "032 문자열 곱하기   \n",
    "아래 코드의 실행 결과를 예상해보세요.\n",
    "\n",
    "> print(\"Hi\" * 3)"
   ]
  },
  {
   "cell_type": "code",
   "execution_count": 12,
   "id": "66f2c79a",
   "metadata": {},
   "outputs": [
    {
     "name": "stdout",
     "output_type": "stream",
     "text": [
      "HiHiHi\n"
     ]
    }
   ],
   "source": [
    "print(\"Hi\" * 3)"
   ]
  },
  {
   "cell_type": "code",
   "execution_count": 13,
   "id": "2d17167c",
   "metadata": {},
   "outputs": [
    {
     "name": "stdout",
     "output_type": "stream",
     "text": [
      "--------------------------------------------------------------------------------\n"
     ]
    }
   ],
   "source": [
    "# 033 문자열 곱하기 : 화면에 '-'를 80개 출력하세요.\n",
    "print('-' * 80)"
   ]
  },
  {
   "cell_type": "markdown",
   "id": "0b64e8aa",
   "metadata": {},
   "source": [
    "034 문자열 곱하기   \n",
    "변수에 다음과 같은 문자열이 바인딩되어 있습니다.   \n",
    "\n",
    "> t1 = 'python'   \n",
    "> t2 = 'java'   \n",
    "\n",
    "변수에 문자열 더하기와 문자열 곱하기를 사용해서 아래와 같이 출력해보세요.\n",
    "> 실행 예:\n",
    "python java python java python java python java"
   ]
  },
  {
   "cell_type": "code",
   "execution_count": 14,
   "id": "363bbe6d",
   "metadata": {},
   "outputs": [
    {
     "name": "stdout",
     "output_type": "stream",
     "text": [
      "pythonjavapythonjavapythonjavapythonjava\n"
     ]
    }
   ],
   "source": [
    "t1 = 'python'\n",
    "t2 = 'java'\n",
    "t3 = t1 + t2\n",
    "print(t3*4)"
   ]
  },
  {
   "cell_type": "code",
   "execution_count": 15,
   "id": "33a80516",
   "metadata": {},
   "outputs": [
    {
     "name": "stdout",
     "output_type": "stream",
     "text": [
      "python java python java python java python java \n"
     ]
    }
   ],
   "source": [
    "# 정답\n",
    "t1 = \"python\"\n",
    "t2 = \"java\"\n",
    "t3 = t1 + ' ' + t2 + ' '\n",
    "print(t3 * 4)"
   ]
  },
  {
   "cell_type": "markdown",
   "id": "f07d4619",
   "metadata": {},
   "source": [
    "035 문자열 출력   \n",
    "변수에 다음과 같이 문자열과 정수가 바인딩되어 있을 때 % formatting을 사용해서 다음과 같이 출력해보세요.   \n",
    "\n",
    "> name1 = \"김민수\"    \n",
    "> age1 = 10   \n",
    "> name2 = \"이철희\"   \n",
    "> age2 = 13   \n",
    "\n",
    ">이름: 김민수 나이: 10   \n",
    ">이름: 이철희 나이: 13   "
   ]
  },
  {
   "cell_type": "code",
   "execution_count": 16,
   "id": "6a190de1",
   "metadata": {},
   "outputs": [
    {
     "name": "stdout",
     "output_type": "stream",
     "text": [
      "이름: 김민수 나이: 10\n",
      "이름: 이철희 나이: 13\n"
     ]
    }
   ],
   "source": [
    "name1 = \"김민수\"\n",
    "age1 = 10\n",
    "name2 = \"이철희\"\n",
    "age2 = 13\n",
    "print(\"이름: %s 나이: %d\" %(name1, age1))\n",
    "print(\"이름: %s 나이: %d\" %(name2, age2))"
   ]
  },
  {
   "cell_type": "markdown",
   "id": "b02dca95",
   "metadata": {},
   "source": [
    "036 문자열 출력   \n",
    "문자열의 format( ) 메서드를 사용해서 035번 문제를 다시 풀어보세요."
   ]
  },
  {
   "cell_type": "code",
   "execution_count": 17,
   "id": "9bc14495",
   "metadata": {},
   "outputs": [
    {
     "name": "stdout",
     "output_type": "stream",
     "text": [
      "이름: 김민수, 나이: 10\n",
      "이름: 이철희, 나이: 13\n"
     ]
    }
   ],
   "source": [
    "print('이름: {}, 나이: {}'.format(name1, age1))\n",
    "print('이름: {}, 나이: {}'.format(name2, age2))"
   ]
  },
  {
   "cell_type": "markdown",
   "id": "e28367b4",
   "metadata": {},
   "source": [
    "037 문자열 출력   \n",
    "파이썬 3.6부터 지원하는 f-string을 사용해서 035번 문제를 다시 풀어보세요."
   ]
  },
  {
   "cell_type": "code",
   "execution_count": 18,
   "id": "c3ae00dd",
   "metadata": {},
   "outputs": [
    {
     "name": "stdout",
     "output_type": "stream",
     "text": [
      "이름: 김민수 나이: 10\n",
      "이름: 이철희 나이: 13\n"
     ]
    }
   ],
   "source": [
    "print(f'이름: {name1} 나이: {age1}')\n",
    "print(f'이름: {name2} 나이: {age2}')"
   ]
  },
  {
   "cell_type": "markdown",
   "id": "6f2eeb55",
   "metadata": {},
   "source": [
    "038 컴마 제거하기\n",
    "삼성전자의 상장주식수가 다음과 같습니다. 컴마를 제거한 후 이를 정수 타입으로 변환해보세요.\n",
    "\n",
    "상장주식수 = \"5,969,782,550\""
   ]
  },
  {
   "cell_type": "code",
   "execution_count": 19,
   "id": "48ec37d6",
   "metadata": {},
   "outputs": [
    {
     "name": "stdout",
     "output_type": "stream",
     "text": [
      "5969782550 <class 'int'>\n"
     ]
    }
   ],
   "source": [
    "상장주식수 = \"5,969,782,550\"\n",
    "상장주식수 = 상장주식수.replace(\",\",\"\")\n",
    "stock = int(상장주식수)\n",
    "print(stock, type(stock))"
   ]
  },
  {
   "cell_type": "markdown",
   "id": "6dfb3a46",
   "metadata": {},
   "source": [
    "039 문자열 슬라이싱   \n",
    "다음과 같은 문자열에서 '2020/03'만 출력하세요.\n",
    "\n",
    ">분기 = \"2020/03(E) (IFRS연결)\""
   ]
  },
  {
   "cell_type": "code",
   "execution_count": 20,
   "id": "9edcf867",
   "metadata": {},
   "outputs": [
    {
     "name": "stdout",
     "output_type": "stream",
     "text": [
      "2020/03\n"
     ]
    }
   ],
   "source": [
    "분기 = \"2020/03(E) (IFRS연결)\"\n",
    "print(분기[:7])"
   ]
  },
  {
   "cell_type": "markdown",
   "id": "2f72389f",
   "metadata": {},
   "source": [
    "040 strip 메서드\n",
    "문자열의 좌우의 공백이 있을 때 이를 제거해보세요.\n",
    "\n",
    "data = \"   삼성전자    \""
   ]
  },
  {
   "cell_type": "code",
   "execution_count": 21,
   "id": "e9df255b",
   "metadata": {},
   "outputs": [
    {
     "name": "stdout",
     "output_type": "stream",
     "text": [
      "삼성전자\n"
     ]
    }
   ],
   "source": [
    "data = \" 삼성전자 \"\n",
    "print(data.strip())"
   ]
  },
  {
   "cell_type": "markdown",
   "id": "0675f86d",
   "metadata": {},
   "source": [
    "041 upper 메서드   \n",
    "다음과 같은 문자열이 있을 때 이를 대문자 BTC_KRW로 변경하세요.\n",
    "\n",
    ">ticker = \"btc_krw\""
   ]
  },
  {
   "cell_type": "code",
   "execution_count": 22,
   "id": "8f7374e4",
   "metadata": {},
   "outputs": [
    {
     "name": "stdout",
     "output_type": "stream",
     "text": [
      "BTC_KRW\n"
     ]
    }
   ],
   "source": [
    "ticker = \"btc_krw\"\n",
    "print(ticker.upper())"
   ]
  },
  {
   "cell_type": "markdown",
   "id": "291286e3",
   "metadata": {},
   "source": [
    "042 lower 메서드   \n",
    "다음과 같은 문자열이 있을 때 이를 소문자 btc_krw로 변경하세요.\n",
    "\n",
    "> ticker = \"BTC_KRW\""
   ]
  },
  {
   "cell_type": "code",
   "execution_count": 23,
   "id": "9b0b9968",
   "metadata": {},
   "outputs": [
    {
     "name": "stdout",
     "output_type": "stream",
     "text": [
      "btc_krw\n"
     ]
    }
   ],
   "source": [
    "print(ticker.lower())"
   ]
  },
  {
   "cell_type": "markdown",
   "id": "06990d4f",
   "metadata": {},
   "source": [
    "043 capitalize 메서드   \n",
    "문자열 'hello'가 있을 때 이를 'Hello'로 변경해보세요."
   ]
  },
  {
   "cell_type": "code",
   "execution_count": 24,
   "id": "13a8d8bd",
   "metadata": {},
   "outputs": [
    {
     "name": "stdout",
     "output_type": "stream",
     "text": [
      "Hello\n"
     ]
    }
   ],
   "source": [
    "a = 'hello'\n",
    "print(a.capitalize())"
   ]
  },
  {
   "cell_type": "markdown",
   "id": "1a17673e",
   "metadata": {},
   "source": [
    "044 endswith 메서드   \n",
    "파일 이름이 문자열로 저장되어 있을 때   \n",
    "endswith 메서드를 사용해서 파일 이름이 'xlsx'로 끝나는지 확인해보세요.\n",
    "> file_name = \"보고서.xlsx\""
   ]
  },
  {
   "cell_type": "code",
   "execution_count": 25,
   "id": "2bd60efe",
   "metadata": {},
   "outputs": [
    {
     "data": {
      "text/plain": [
       "True"
      ]
     },
     "execution_count": 25,
     "metadata": {},
     "output_type": "execute_result"
    }
   ],
   "source": [
    "file_name = \"보고서.xlsx\"\n",
    "file_name.endswith('xlsx')"
   ]
  },
  {
   "cell_type": "markdown",
   "id": "a3dacb61",
   "metadata": {},
   "source": [
    "045 endswith 메서드   \n",
    "파일 이름이 문자열로 저장되어 있을 때   \n",
    "endswith 메서드를 사용해서 파일 이름이 'xlsx' 또는 'xls'로 끝나는지 확인해보세요."
   ]
  },
  {
   "cell_type": "code",
   "execution_count": 26,
   "id": "7979df13",
   "metadata": {},
   "outputs": [
    {
     "data": {
      "text/plain": [
       "True"
      ]
     },
     "execution_count": 26,
     "metadata": {},
     "output_type": "execute_result"
    }
   ],
   "source": [
    "file_name.endswith(('xlsx','xls'))"
   ]
  },
  {
   "cell_type": "markdown",
   "id": "7e007555",
   "metadata": {},
   "source": [
    "046 startswith 메서드   \n",
    "파일 이름이 문자열로 저장되어 있을 때   \n",
    "startswith 메서드를 사용해서 파일 이름이 '2020'로 시작하는지 확인해보세요.\n",
    "\n",
    ">file_name = \"2020_보고서.xlsx\""
   ]
  },
  {
   "cell_type": "code",
   "execution_count": 27,
   "id": "557b94e5",
   "metadata": {},
   "outputs": [
    {
     "data": {
      "text/plain": [
       "True"
      ]
     },
     "execution_count": 27,
     "metadata": {},
     "output_type": "execute_result"
    }
   ],
   "source": [
    "file_name = \"2020_보고서.xlsx\"\n",
    "file_name.startswith('2020')"
   ]
  },
  {
   "cell_type": "markdown",
   "id": "47cc26e4",
   "metadata": {},
   "source": [
    "047 split 메서드   \n",
    "다음과 같은 문자열이 있을 때 공백을 기준으로 문자열을 나눠보세요.\n",
    "\n",
    "> a = \"hello world\""
   ]
  },
  {
   "cell_type": "code",
   "execution_count": 28,
   "id": "b918cd76",
   "metadata": {},
   "outputs": [
    {
     "data": {
      "text/plain": [
       "['hello', 'world']"
      ]
     },
     "execution_count": 28,
     "metadata": {},
     "output_type": "execute_result"
    }
   ],
   "source": [
    "a = \"hello world\"\n",
    "a.split(' ')"
   ]
  },
  {
   "cell_type": "code",
   "execution_count": 29,
   "id": "57f0f489",
   "metadata": {},
   "outputs": [
    {
     "data": {
      "text/plain": [
       "['hello', 'world']"
      ]
     },
     "execution_count": 29,
     "metadata": {},
     "output_type": "execute_result"
    }
   ],
   "source": [
    "# 정답\n",
    "a = \"hello world\"\n",
    "a.split()"
   ]
  },
  {
   "cell_type": "markdown",
   "id": "6d61c5c3",
   "metadata": {},
   "source": [
    "048 split 메서드   \n",
    "다음과 같이 문자열이 있을 때 btc와 krw로 나눠보세요.\n",
    "\n",
    "> ticker = \"btc_krw\""
   ]
  },
  {
   "cell_type": "code",
   "execution_count": 30,
   "id": "11348eb1",
   "metadata": {},
   "outputs": [
    {
     "data": {
      "text/plain": [
       "['btc', 'krw']"
      ]
     },
     "execution_count": 30,
     "metadata": {},
     "output_type": "execute_result"
    }
   ],
   "source": [
    "ticker = \"btc_krw\"\n",
    "ticker.split('_')"
   ]
  },
  {
   "cell_type": "markdown",
   "id": "032d53ca",
   "metadata": {},
   "source": [
    "049 split 메서드   \n",
    "다음과 같이 날짜를 표현하는 문자열이 있을 때 연도, 월, 일로 나눠보세요.\n",
    "\n",
    ">date = \"2020-05-01\""
   ]
  },
  {
   "cell_type": "code",
   "execution_count": 31,
   "id": "89453d11",
   "metadata": {},
   "outputs": [
    {
     "data": {
      "text/plain": [
       "['2020', '05', '01']"
      ]
     },
     "execution_count": 31,
     "metadata": {},
     "output_type": "execute_result"
    }
   ],
   "source": [
    "date = \"2020-05-01\"\n",
    "date.split('-')"
   ]
  },
  {
   "cell_type": "code",
   "execution_count": 32,
   "id": "66bc23e7",
   "metadata": {},
   "outputs": [
    {
     "data": {
      "text/plain": [
       "'039490'"
      ]
     },
     "execution_count": 32,
     "metadata": {},
     "output_type": "execute_result"
    }
   ],
   "source": [
    "# 050 rstrip 메서드\n",
    "# 문자열의 오른쪽에 공백이 있을 때 이를 제거해보세요.\n",
    "\n",
    "data = \"039490     \"\n",
    "data.rstrip()"
   ]
  },
  {
   "cell_type": "markdown",
   "id": "49c9246c",
   "metadata": {},
   "source": [
    "rstrip() 메서드를 사용하면 오른쪽 공백이 제거된 새로운 문자열 객체가 반환됩니다"
   ]
  }
 ],
 "metadata": {
  "kernelspec": {
   "display_name": "Python 3",
   "language": "python",
   "name": "python3"
  },
  "language_info": {
   "codemirror_mode": {
    "name": "ipython",
    "version": 3
   },
   "file_extension": ".py",
   "mimetype": "text/x-python",
   "name": "python",
   "nbconvert_exporter": "python",
   "pygments_lexer": "ipython3",
   "version": "3.8.8"
  }
 },
 "nbformat": 4,
 "nbformat_minor": 5
}
