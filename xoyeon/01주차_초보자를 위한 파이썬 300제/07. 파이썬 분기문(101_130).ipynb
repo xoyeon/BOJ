{
 "cells": [
  {
   "cell_type": "code",
   "execution_count": 1,
   "id": "3b5baf6b",
   "metadata": {},
   "outputs": [],
   "source": [
    "# 101 파이썬에서 True 혹은 False를 갖는 데이터 타입은 무엇인가?\n",
    "# Boolean"
   ]
  },
  {
   "cell_type": "code",
   "execution_count": 2,
   "id": "b1f018d3",
   "metadata": {},
   "outputs": [
    {
     "name": "stdout",
     "output_type": "stream",
     "text": [
      "False\n"
     ]
    }
   ],
   "source": [
    "# 102 아래 코드의 출력 결과를 예상하라\n",
    "print(3 == 5)"
   ]
  },
  {
   "cell_type": "code",
   "execution_count": 3,
   "id": "b4084782",
   "metadata": {},
   "outputs": [
    {
     "name": "stdout",
     "output_type": "stream",
     "text": [
      "True\n"
     ]
    }
   ],
   "source": [
    "# 103 아래 코드의 출력 결과를 예상하라\n",
    "print(3 < 5)"
   ]
  },
  {
   "cell_type": "code",
   "execution_count": 4,
   "id": "8a586292",
   "metadata": {},
   "outputs": [
    {
     "name": "stdout",
     "output_type": "stream",
     "text": [
      "True\n"
     ]
    }
   ],
   "source": [
    "# 104 아래 코드의 결과를 예상하라.\n",
    "x = 4\n",
    "print(1 < x < 5)"
   ]
  },
  {
   "cell_type": "code",
   "execution_count": 5,
   "id": "8fca7bda",
   "metadata": {},
   "outputs": [
    {
     "name": "stdout",
     "output_type": "stream",
     "text": [
      "True\n"
     ]
    }
   ],
   "source": [
    "# 105 아래 코드의 결과를 예상하라.\n",
    "print ((3 == 3) and (4 != 3))"
   ]
  },
  {
   "cell_type": "code",
   "execution_count": 6,
   "id": "3e3aba3d",
   "metadata": {},
   "outputs": [
    {
     "ename": "SyntaxError",
     "evalue": "invalid syntax (<ipython-input-6-a7b736c6bff7>, line 2)",
     "output_type": "error",
     "traceback": [
      "\u001b[1;36m  File \u001b[1;32m\"<ipython-input-6-a7b736c6bff7>\"\u001b[1;36m, line \u001b[1;32m2\u001b[0m\n\u001b[1;33m    print(3 => 4)\u001b[0m\n\u001b[1;37m             ^\u001b[0m\n\u001b[1;31mSyntaxError\u001b[0m\u001b[1;31m:\u001b[0m invalid syntax\n"
     ]
    }
   ],
   "source": [
    "# 106 아래 코드에서 에러가 발생하는 원인에 대해 설명하라.\n",
    "print(3 => 4)\n",
    "# 항상 등호보다 부등호가 먼저 와야 함!"
   ]
  },
  {
   "cell_type": "code",
   "execution_count": 7,
   "id": "f3ace8e4",
   "metadata": {},
   "outputs": [],
   "source": [
    "# 107 아래 코드의 출력 결과를 예상하라\n",
    "if 4 < 3:\n",
    "    print(\"Hello World\")\n",
    "# 조건을 만족하지 않기 때문에 아무 결과도 출력되지 않습니다."
   ]
  },
  {
   "cell_type": "code",
   "execution_count": 8,
   "id": "0fcdac0e",
   "metadata": {},
   "outputs": [
    {
     "name": "stdout",
     "output_type": "stream",
     "text": [
      "Hi, there.\n"
     ]
    }
   ],
   "source": [
    "# 108 아래 코드의 출력 결과를 예상하라\n",
    "if 4 < 3:\n",
    "    print(\"Hello World.\")\n",
    "else:\n",
    "    print(\"Hi, there.\")"
   ]
  },
  {
   "cell_type": "code",
   "execution_count": 9,
   "id": "391af20b",
   "metadata": {},
   "outputs": [
    {
     "name": "stdout",
     "output_type": "stream",
     "text": [
      "1\n",
      "2\n",
      "4\n"
     ]
    }
   ],
   "source": [
    "# 109 아래 코드의 출력 결과를 예상하라\n",
    "if True :\n",
    "    print (\"1\")\n",
    "    print (\"2\")\n",
    "else :\n",
    "    print(\"3\")\n",
    "print(\"4\")"
   ]
  },
  {
   "cell_type": "code",
   "execution_count": 10,
   "id": "d223f211",
   "metadata": {},
   "outputs": [
    {
     "name": "stdout",
     "output_type": "stream",
     "text": [
      "3\n",
      "5\n"
     ]
    }
   ],
   "source": [
    "# 110 아래 코드의 출력 결과를 예상하라\n",
    "if True :\n",
    "    if False:\n",
    "        print(\"1\")\n",
    "        print(\"2\")\n",
    "    else:\n",
    "        print(\"3\")\n",
    "else :\n",
    "    print(\"4\")\n",
    "print(\"5\")"
   ]
  },
  {
   "cell_type": "markdown",
   "id": "0000f3d7",
   "metadata": {},
   "source": [
    "111\n",
    "사용자로부터 입력받은 문자열을 두 번 출력하라. 아래는 사용자가 \"안녕하세요\"를 입력한 경우의 출력 결과이다.\n",
    "\n",
    "> 안녕하세요\n",
    ">>안녕하세요안녕하세요"
   ]
  },
  {
   "cell_type": "code",
   "execution_count": 12,
   "id": "4c7c92b6",
   "metadata": {},
   "outputs": [
    {
     "name": "stdout",
     "output_type": "stream",
     "text": [
      "입력:안녕하세요\n",
      "안녕하세요안녕하세요\n"
     ]
    }
   ],
   "source": [
    "put = input(\"입력:\")\n",
    "print(put*2)"
   ]
  },
  {
   "cell_type": "markdown",
   "id": "80d17faf",
   "metadata": {},
   "source": [
    "112\n",
    "사용자로부터 하나의 숫자를 입력받고, 입력 받은 숫자에 10을 더해 출력하라.\n",
    "\n",
    "> 숫자를 입력하세요: 30   \n",
    "> 40"
   ]
  },
  {
   "cell_type": "code",
   "execution_count": 13,
   "id": "825d49ee",
   "metadata": {},
   "outputs": [
    {
     "name": "stdout",
     "output_type": "stream",
     "text": [
      "숫자를 입력하세요:30\n",
      "40\n"
     ]
    }
   ],
   "source": [
    "num = input(\"숫자를 입력하세요:\")\n",
    "print(int(num)+10)"
   ]
  },
  {
   "cell_type": "markdown",
   "id": "c20c210a",
   "metadata": {},
   "source": [
    "113\n",
    "사용자로부터 하나의 숫자를 입력 받고 짝수/홀수를 판별하라.\n",
    "\n",
    "> 30\n",
    "> 짝수"
   ]
  },
  {
   "cell_type": "code",
   "execution_count": 14,
   "id": "19eb1abf",
   "metadata": {},
   "outputs": [
    {
     "name": "stdout",
     "output_type": "stream",
     "text": [
      "숫자를 입력하세요:30\n",
      "짝수\n"
     ]
    }
   ],
   "source": [
    "even = input(\"숫자를 입력하세요:\")\n",
    "\n",
    "if int(even) %2 == 0:\n",
    "    print('짝수')  \n",
    "else:\n",
    "    print('홀수')"
   ]
  },
  {
   "cell_type": "markdown",
   "id": "492d2623",
   "metadata": {},
   "source": [
    "114\n",
    "사용자로부터 값을 입력받은 후 해당 값에 20을 더한 값을 출력하라. 단 사용자가 입력한 값과 20을 더한 계산 값이 255를 초과하는 경우 255를 출력해야 한다.\n",
    "\n",
    "> 입력값: 200\n",
    "출력값: 220\n",
    "\n",
    "> 입력값: 240\n",
    "출력값: 255"
   ]
  },
  {
   "cell_type": "code",
   "execution_count": 24,
   "id": "4fd1b09e",
   "metadata": {},
   "outputs": [
    {
     "name": "stdout",
     "output_type": "stream",
     "text": [
      "입력값:200\n",
      "220\n"
     ]
    }
   ],
   "source": [
    "입력값 = input(\"입력값:\")\n",
    "num = int(입력값) + 20\n",
    "\n",
    "if num > 255:\n",
    "    print(255)\n",
    "else:\n",
    "    print(num)"
   ]
  },
  {
   "cell_type": "markdown",
   "id": "bc753e8d",
   "metadata": {},
   "source": [
    "115\n",
    "사용자로부터 하나의 값을 입력받은 후 해당 값에 20을 뺀 값을 출력하라. 단 출력 값의 범위는 0~255이다. 예를 들어 결괏값이 0보다 작은 값이되는 경우 0을 출력하고 255보다 큰 값이 되는 경우 255를 출력해야 한다.\n",
    "\n",
    "> 입력값: 200\n",
    "출력값: 180\n",
    "    \n",
    "> 입력값: 15\n",
    "출력값: 0"
   ]
  },
  {
   "cell_type": "code",
   "execution_count": 25,
   "id": "7d1779c5",
   "metadata": {},
   "outputs": [
    {
     "name": "stdout",
     "output_type": "stream",
     "text": [
      "입력값:200\n",
      "180\n"
     ]
    }
   ],
   "source": [
    "putin = input(\"입력값:\")\n",
    "num = int(putin) - 20\n",
    "\n",
    "if num <0:\n",
    "    print('출력값: 0')\n",
    "    \n",
    "elif num >255:\n",
    "    print('출력값: 255')\n",
    "    \n",
    "else:\n",
    "    print(num)"
   ]
  },
  {
   "cell_type": "code",
   "execution_count": 26,
   "id": "0c31263b",
   "metadata": {},
   "outputs": [
    {
     "name": "stdout",
     "output_type": "stream",
     "text": [
      "입력값: 15\n",
      "0\n"
     ]
    }
   ],
   "source": [
    "# 모범답안\n",
    "user = input(\"입력값: \")\n",
    "num = int(user) - 20\n",
    "if num > 255:\n",
    "    print(255)\n",
    "elif num < 0:\n",
    "    print(0)\n",
    "else:\n",
    "    print(num)"
   ]
  },
  {
   "cell_type": "markdown",
   "id": "df042060",
   "metadata": {},
   "source": [
    "116\n",
    "사용자로부터 입력 받은 시간이 정각인지 판별하라.\n",
    "\n",
    "> 현재시간:02:00\n",
    ">> 정각 입니다.\n",
    "\n",
    "> 현재시간:03:10\n",
    ">> 정각이 아닙니다"
   ]
  },
  {
   "cell_type": "code",
   "execution_count": 27,
   "id": "7f52baf4",
   "metadata": {},
   "outputs": [
    {
     "name": "stdout",
     "output_type": "stream",
     "text": [
      "현재시간:02:00\n",
      "정각 입니다.\n"
     ]
    }
   ],
   "source": [
    "time = input(\"현재시간:\")\n",
    "\n",
    "if time[-2:] == \"00\":\n",
    "    print(\"정각 입니다.\")\n",
    "    \n",
    "else:\n",
    "    print(\"정각이 아닙니다\")"
   ]
  },
  {
   "cell_type": "markdown",
   "id": "0d9bbb03",
   "metadata": {},
   "source": [
    "117\n",
    "사용자로 입력받은 단어가 아래 fruit 리스트에 포함되어 있는지를 확인하라. 포함되었다면 \"정답입니다\"를 아닐 경우 \"오답입니다\" 출력하라.\n",
    "\n",
    "> fruit = [\"사과\", \"포도\", \"홍시\"]\n",
    ">> 좋아하는 과일은? 사과   \n",
    ">>정답입니다."
   ]
  },
  {
   "cell_type": "code",
   "execution_count": null,
   "id": "fff14eb6",
   "metadata": {},
   "outputs": [],
   "source": [
    "fruit = [\"사과\", \"포도\", \"홍시\"]\n",
    "fave = input(\"좋아하는 과일은?\")\n",
    "\n",
    "if fave in fruit:\n",
    "    print('정답입니다.')\n",
    "else:\n",
    "    print('오답입니다.')"
   ]
  },
  {
   "cell_type": "markdown",
   "id": "d397e458",
   "metadata": {},
   "source": [
    "118\n",
    "투자 경고 종목 리스트가 있을 때 사용자로부터 종목명을 입력 받은 후 해당 종목이 투자 경고 종목이라면 '투자 경고 종목입니다'를 아니면 \"투자 경고 종목이 아닙니다.\"를 출력하는 프로그램을 작성하라.\n",
    "\n",
    "> warn_investment_list = [\"Microsoft\", \"Google\", \"Naver\", \"Kakao\", \"SAMSUNG\", \"LG\"]"
   ]
  },
  {
   "cell_type": "code",
   "execution_count": null,
   "id": "e883b566",
   "metadata": {},
   "outputs": [],
   "source": [
    "warn_investment_list = [\"Microsoft\", \"Google\", \"Naver\", \"Kakao\", \"SAMSUNG\", \"LG\"]\n",
    "invest = input(\"투자 종목:\")\n",
    "\n",
    "if invest in warn_investment_list:\n",
    "    print('투자 경고 종목입니다')\n",
    "else:\n",
    "    print(\"투자 경고 종목이 아닙니다.\")"
   ]
  },
  {
   "cell_type": "markdown",
   "id": "5360d757",
   "metadata": {},
   "source": [
    "119\n",
    "아래와 같이 fruit 딕셔너리가 정의되어 있다. 사용자가 입력한 값이 딕셔너리 키 (key) 값에 포함되었다면 \"정답입니다\"를 아닐 경우 \"오답입니다\" 출력하라.\n",
    "\n",
    "> fruit = {\"봄\" : \"딸기\", \"여름\" : \"토마토\", \"가을\" : \"사과\"}\n",
    ">> 제가좋아하는계절은: 봄   \n",
    "정답입니다."
   ]
  },
  {
   "cell_type": "code",
   "execution_count": null,
   "id": "fae1c5a4",
   "metadata": {},
   "outputs": [],
   "source": [
    "fruit = {\"봄\" : \"딸기\", \"여름\" : \"토마토\", \"가을\" : \"사과\"}\n",
    "season = input(\"제가 좋아하는 계절은:\")\n",
    "\n",
    "if season in fruit:\n",
    "    print('정답입니다.')\n",
    "else:\n",
    "    print('오답입니다.')"
   ]
  },
  {
   "cell_type": "markdown",
   "id": "3d07f847",
   "metadata": {},
   "source": [
    "120\n",
    "아래와 같이 fruit 딕셔너리가 정의되어 있다. 사용자가 입력한 값이 딕셔너리 값 (value)에 포함되었다면 \"정답입니다\"를 아닐 경우 \"오답입니다\" 출력하라.\n",
    "\n",
    ">fruit = {\"봄\" : \"딸기\", \"여름\" : \"토마토\", \"가을\" : \"사과\"}\n",
    ">> 좋아하는과일은? 한라봉   \n",
    "오답입니다."
   ]
  },
  {
   "cell_type": "code",
   "execution_count": null,
   "id": "b599d879",
   "metadata": {},
   "outputs": [],
   "source": [
    "fruit = {\"봄\" : \"딸기\", \"여름\" : \"토마토\", \"가을\" : \"사과\"}\n",
    "fav_fruit = input(\"좋아하는 과일은?\")\n",
    "\n",
    "if fav_fruit in fruit.values():\n",
    "    print(\"정답입니다\")\n",
    "else:\n",
    "    print(\"오답입니다\")"
   ]
  },
  {
   "cell_type": "markdown",
   "id": "cdabbe03",
   "metadata": {},
   "source": [
    "121\n",
    "사용자로부터 문자 한 개를 입력 받고, 소문자일 경우 대문자로, 대문자 일 경우, 소문자로 변경해서 출력하라.\n",
    "\n",
    "> a   \n",
    ">> A\n",
    "\n",
    "힌트-1 : islower() 함수는 문자의 소문자 여부를 판별합니다. 만약 소문자일 경우 True, 대문자일 경우 False를 반환합니다. 힌트-2 : upper() 함수는 대문자로, lower() 함수는 소문자로 변경합니다."
   ]
  },
  {
   "cell_type": "code",
   "execution_count": null,
   "id": "327ca971",
   "metadata": {},
   "outputs": [],
   "source": [
    "a = input(\"알파벳을 입력하세요:\")\n",
    "\n",
    "if a.islower():\n",
    "    print('True')\n",
    "    print(a.upper())\n",
    "else:\n",
    "    print('False')\n",
    "    print(a.lower())"
   ]
  },
  {
   "attachments": {
    "image.png": {
     "image/png": "[encoded data removed]"
    }
   },
   "cell_type": "markdown",
   "id": "f01cd2a4",
   "metadata": {},
   "source": [
    "122\n",
    "점수 구간에 해당하는 학점이 아래와 같이 정의되어 있다. 사용자로부터 score를 입력받아 학점을 출력하라.\n",
    "![image.png](attachment:image.png)\n",
    "> score: 83   \n",
    "grade is A"
   ]
  },
  {
   "cell_type": "code",
   "execution_count": null,
   "id": "5fdb279c",
   "metadata": {},
   "outputs": [],
   "source": [
    "score = int(input(\"score:\"))\n",
    "\n",
    "if 81<=score<=100:\n",
    "    print('grade is A')\n",
    "elif 61<=score<=80:\n",
    "    print('grade is B')\n",
    "elif 41<=score<=60:\n",
    "    print('grade is C')\n",
    "elif 21<=score<=40:\n",
    "    print('grade is D')\n",
    "elif 0<=score<=20:\n",
    "    print('grade is E')"
   ]
  },
  {
   "attachments": {
    "image.png": {
     "image/png": "[encoded data removed]"
    }
   },
   "cell_type": "markdown",
   "id": "50c250d6",
   "metadata": {},
   "source": [
    "123\n",
    "사용자로부터 달러, 엔, 유로, 또는 위안 금액을 입력받은 후 이를 원으로 변환하는 프로그램을 작성하라. 각 통화별 환율은 다음과 같다. 사용자는 100 달러, 1000 엔, 13 유로, 100 위안과 같이 금액과 통화명 사이에 공백을 넣어 입력한다고 가정한다.\n",
    "![image.png](attachment:image.png)\n",
    "\n",
    "> 입력: 100 달러   \n",
    "> 116700.00 원"
   ]
  },
  {
   "cell_type": "code",
   "execution_count": null,
   "id": "dc65e4ef",
   "metadata": {},
   "outputs": [],
   "source": [
    "환율 = {\"달러\": 1167, \n",
    "        \"엔\": 1.096, \n",
    "        \"유로\": 1268, \n",
    "        \"위안\": 171}\n",
    "user = input(\"입력: \")\n",
    "number, currency = user.split()\n",
    "print(float(num) * 환율[currency], \"원\") ????????????????????"
   ]
  },
  {
   "cell_type": "markdown",
   "id": "f6a7a0ac",
   "metadata": {},
   "source": [
    "124\n",
    "사용자로부터 세 개의 숫자를 입력 받은 후 가장 큰 숫자를 출력하라.\n",
    "\n",
    "> input number1: 10   \n",
    "> input number2: 9   \n",
    "> input number3: 20   \n",
    "20"
   ]
  },
  {
   "cell_type": "code",
   "execution_count": null,
   "id": "db3cc323",
   "metadata": {},
   "outputs": [],
   "source": [
    "num1 = int(input(\"input number1: \"))\n",
    "num2 = int(input(\"input number2: \"))\n",
    "num3 = int(input(\"input number3: \"))\n",
    "\n",
    "num_list = [num1,num2,num3]\n",
    "print(max(num_list))"
   ]
  },
  {
   "cell_type": "code",
   "execution_count": null,
   "id": "583d54f4",
   "metadata": {},
   "outputs": [],
   "source": [
    "# 모범답안\n",
    "num1 = input(\"input number1: \")\n",
    "num2 = input(\"input number2: \")\n",
    "num3 = input(\"input number3: \")\n",
    "num1 = int(num1)\n",
    "num2 = int(num2)\n",
    "num3 = int(num3)\n",
    "\n",
    "if num1 >= num2 and num1 >= num3:\n",
    "    print(num1)\n",
    "elif num2 >= num1 and num2 >= num3:\n",
    "    print(num2)\n",
    "else:\n",
    "    print(num3)"
   ]
  },
  {
   "attachments": {
    "image.png": {
     "image/png": "[encoded data removed]"
    }
   },
   "cell_type": "markdown",
   "id": "457dd31e",
   "metadata": {},
   "source": [
    "125\n",
    "휴대폰 번호 앞자리에 따라 통신사는 아래와 같이 구분된다. 사용자로부터 휴대전화 번호를 입력 받고, 통신사를 출력하는 프로그램을 작성하라.\n",
    "\n",
    "![image.png](attachment:image.png)\n",
    "\n",
    "> 휴대전화 번호 입력: 011-345-1922   \n",
    "당신은 SKT 사용자입니다."
   ]
  },
  {
   "cell_type": "code",
   "execution_count": null,
   "id": "6a08b91f",
   "metadata": {},
   "outputs": [],
   "source": [
    "num = input(\"휴대전화 번호 입력:\")\n",
    "phone = num.split(\"-\")[0]\n",
    "\n",
    "if phone == '011':\n",
    "    print('당신은 SKT 사용자입니다.')\n",
    "elif phone == '016':\n",
    "    print('당신은 KT 사용자입니다.')\n",
    "elif phone == '019':\n",
    "    print('당신은 LGU 사용자입니다.')\n",
    "elif phone == '010':\n",
    "    print('당신은 알 수 없는 사용자입니다.')"
   ]
  },
  {
   "cell_type": "code",
   "execution_count": null,
   "id": "25314641",
   "metadata": {},
   "outputs": [],
   "source": [
    "# 모범답안\n",
    "number = input(\"휴대전화 번호 입력: \")\n",
    "num = number.split(\"-\")[0]\n",
    "if num == \"011\":\n",
    "    com = \"SKT\"\n",
    "elif num == \"016\":\n",
    "    com = \"KT\"\n",
    "elif num == \"019\":\n",
    "    com = \"LGU\"\n",
    "else:\n",
    "    com = \"알수없음\"\n",
    "print(f\"당신은 {com} 사용자입니다.\")"
   ]
  },
  {
   "attachments": {
    "image.png": {
     "image/png": "[encoded data removed]"
    }
   },
   "cell_type": "markdown",
   "id": "d1348a70",
   "metadata": {},
   "source": [
    "126\n",
    "우편번호는 5자리로 구성되는데, 앞의 세자리는 구를 나타낸다. 예를들어, 강북구의 경우 010, 011, 012 세 자리로 시작한다.\n",
    "![image.png](attachment:image.png)\n",
    "사용자로 부터 5자리 우편번호를 입력받고 구를 판별하라\n",
    "\n",
    "> 우편번호: 01400   \n",
    "> 도봉구"
   ]
  },
  {
   "cell_type": "code",
   "execution_count": null,
   "id": "bf8c2f1a",
   "metadata": {},
   "outputs": [],
   "source": [
    "post = input(\"우편번호:\")\n",
    "post = post[:3]\n",
    "\n",
    "if post == ('010', '011', '012'):\n",
    "    print(\"강북구\")\n",
    "elif post == ('013', '014', '015'):\n",
    "    print(\"도봉구\")\n",
    "else:\n",
    "    print(\"노원구\")"
   ]
  },
  {
   "cell_type": "code",
   "execution_count": null,
   "id": "65374dd7",
   "metadata": {},
   "outputs": [],
   "source": [
    "# 모범답안\n",
    "우편번호 = input(\"우편번호: \")\n",
    "우편번호 = 우편번호[:3]\n",
    "if 우편번호 in [\"010\", \"011\", \"012\"]:\n",
    "    print(\"강북구\")\n",
    "elif 우편번호 in [\"014\", \"015\", \"016\"]:\n",
    "    print(\"도봉구\")\n",
    "else:\n",
    "    print(\"노원구\")"
   ]
  },
  {
   "cell_type": "markdown",
   "id": "1e143509",
   "metadata": {},
   "source": [
    "127\n",
    "주민등록번호 뒷 자리 7자리 중 첫째 자리는 성별을 나타내는데, 1, 3은 남자 2, 4는 여자를 의미한다. 사용자로부터 13자리의 주민등록번호를 입력 받은 후 성별 (남자, 여자)를 출력하는 프로그램을 작성하라.\n",
    "\n",
    "> 주민등록번호: 821010-1635210   \n",
    "> 남자"
   ]
  },
  {
   "cell_type": "code",
   "execution_count": null,
   "id": "a2604338",
   "metadata": {},
   "outputs": [],
   "source": [
    "번호 = input(\"주민등록번호:\")\n",
    "성별 = 번호[7]\n",
    "\n",
    "if 성별 in ['1','3']:\n",
    "    print('남자')\n",
    "elif 성별 in ['2','4']:\n",
    "    print('여자')\n",
    "else:\n",
    "    print('알 수 없음')"
   ]
  },
  {
   "cell_type": "code",
   "execution_count": null,
   "id": "66f14952",
   "metadata": {},
   "outputs": [],
   "source": [
    "# 모범답안\n",
    "주민번호 = input(\"주민등록번호: \")\n",
    "주민번호 = 주민번호.split(\"-\")[1]\n",
    "if 주민번호[0] == \"1\" or 주민번호[0] == \"3\":\n",
    "    print(\"남자\")\n",
    "else:\n",
    "    print(\"여자\")"
   ]
  },
  {
   "attachments": {
    "image.png": {
     "image/png": "[encoded data removed]"
    }
   },
   "cell_type": "markdown",
   "id": "629dd089",
   "metadata": {},
   "source": [
    "128\n",
    "주민등록번호의 뒷 자리 7자리 중 두번째와 세번째는 지역코드를 의미한다. 주민 등록 번호를 입력 받은 후 출생지가 서울인지 아닌지 판단하는 코드를 작성하라\n",
    "![image.png](attachment:image.png)\n",
    "\n",
    "> 주민등록번호: 821010-1635210\n",
    "> 서울이 아닙니다.\n",
    "\n",
    "> 주민등록번호: 861010-1015210\n",
    ">서울 입니다."
   ]
  },
  {
   "cell_type": "code",
   "execution_count": null,
   "id": "8294e2a4",
   "metadata": {},
   "outputs": [],
   "source": [
    "주민번호 = input(\"주민등록번호: \")\n",
    "주민번호 = 주민번호.split(\"-\")[1]\n",
    "\n",
    "if 0 <= int(주민번호) <= 8:\n",
    "    print('서울입니다.')\n",
    "else:\n",
    "    print('부산입니다.')"
   ]
  },
  {
   "cell_type": "markdown",
   "id": "8cf46300",
   "metadata": {},
   "source": [
    "129\n",
    "주민등록번호는 13자리로 구성되는데 마지막 자리수는 주민등록번호의 유효성을 체크하는데 사용된다. 먼저 앞에서부터 12자리의 숫자에 2, 3, 4, 5, 6, 7, 8, 9, 2, 3, 4, 5를 차례로 곱한 뒤 그 값을 전부 더한다. 연산 결과 값을 11로 나누면 나머지가 나오는데 11에서 나머지를 뺀 값이 주민등록번호의 마지막 번호가 된다.\n",
    "\n",
    "  8 2 1 0 1 0 - 1 6 3 5 2 1 0 x 2 3 4 5 6 7   8 9 2 3 4 5 \n",
    "\n",
    "> 1차 계산: (8*2 + 2*3 + 1*4 + 0*5 + 1*6 + 0*7 + 1*8 + 6*9 + 3*2 + 5*3 + 2*4 + 1*5) = (128 % 11) = 7   \n",
    "> 2차 계산: 11 -7 = 4\n",
    "\n",
    "위와 같이 821010-1635210에 대해서 계산을 해보면 마지막 자리는 4가 되어야 함을 알 수 있다. 즉, 821010-1635210은 유효하지 않은 주민등록번호임을 알 수 있다.   \n",
    "\n",
    "다음과 같이 사용자로부터 주민등록번호를 입력받은 후 주민등록번호가 유효한지를 출력하는 프로그램을 작성하라.\n",
    "\n",
    "> 주민등록번호: 821010-1635210   \n",
    "유효하지 않은 주민등록번호입니다. "
   ]
  },
  {
   "cell_type": "code",
   "execution_count": null,
   "id": "4785c62f",
   "metadata": {},
   "outputs": [],
   "source": [
    "# 모범답안\n",
    "num = input(\"주민등록번호: \")\n",
    "계산1 = int(num[0]) * 2 + int(num[1]) * 3 + int(num[2]) * 4 + int(num[3]) * 5 + int(num[4]) * 6 + \\\n",
    "        int(num[5]) * 7 + int(num[7]) * 8 + int(num[8]) * 9 + int(num[9]) * 2 + int(num[10])* 3 + \\\n",
    "        int(num[11])* 4 + int(num[12]) * 5\n",
    "계산2 = 11 - (계산1 % 11)\n",
    "계산3 = str(계산2)\n",
    "\n",
    "if num[-1] == 계산3[-1]:\n",
    "    print(\"유효한 주민등록번호입니다.\")\n",
    "else:\n",
    "    print(\"유효하지 않은 주민등록번호입니다.\")"
   ]
  },
  {
   "attachments": {
    "image.png": {
     "image/png": "[encoded data removed]"
    }
   },
   "cell_type": "markdown",
   "id": "53f478fe",
   "metadata": {},
   "source": [
    "130\n",
    "아래 코드는 비트코인의 가격 정보를 딕셔너리로 가져오는 코드이다.\n",
    "\n",
    "> import requests   \n",
    "btc = requests.get(\"https://api.bithumb.com/public/ticker/\").json()['data']\n",
    "\n",
    "btc 딕셔너리 안에는 시가, 종가, 최고가, 최저가 등이 저장되어 있다. 최고가와 최저가의 차이를 변동폭으로 정의할 때 (시가 + 변동폭)이 최고가 보다 높을 경우 \"상승장\", 그렇지 않은 경우 \"하락장\" 문자열을 출력하라.\n",
    "\n",
    "![image.png](attachment:image.png)"
   ]
  },
  {
   "cell_type": "code",
   "execution_count": null,
   "id": "ab9db5d5",
   "metadata": {},
   "outputs": [],
   "source": [
    "# 모범답안\n",
    "import requests\n",
    "btc = requests.get(\"https://api.bithumb.com/public/ticker/\").json()['data']\n",
    "\n",
    "변동폭 = float(btc['max_price']) - float(btc['min_price'])\n",
    "시가 = float(btc['opening_price'])\n",
    "최고가 = float(btc['max_price'])\n",
    "\n",
    "if (시가+변동폭) > 최고가:\n",
    "    print(\"상승장\")\n",
    "else:\n",
    "    print(\"하락장\")"
   ]
  }
 ],
 "metadata": {
  "kernelspec": {
   "display_name": "Python 3",
   "language": "python",
   "name": "python3"
  },
  "language_info": {
   "codemirror_mode": {
    "name": "ipython",
    "version": 3
   },
   "file_extension": ".py",
   "mimetype": "text/x-python",
   "name": "python",
   "nbconvert_exporter": "python",
   "pygments_lexer": "ipython3",
   "version": "3.8.8"
  }
 },
 "nbformat": 4,
 "nbformat_minor": 5
}
