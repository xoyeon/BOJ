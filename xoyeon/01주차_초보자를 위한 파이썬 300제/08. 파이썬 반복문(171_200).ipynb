{
 "cells": [
  {
   "cell_type": "markdown",
   "id": "6d4d79ec",
   "metadata": {},
   "source": [
    "171 아래와 같이 리스트의 데이터를 출력하라. 단, for문과 range문을 사용하라.\n",
    "\n",
    "> price_list = [32100, 32150, 32000, 32500]\n",
    "\n",
    "> 32100   \n",
    "32150   \n",
    "32000   \n",
    "32500       "
   ]
  },
  {
   "cell_type": "code",
   "execution_count": 1,
   "id": "9e752d4d",
   "metadata": {},
   "outputs": [
    {
     "name": "stdout",
     "output_type": "stream",
     "text": [
      "32100\n",
      "32150\n",
      "32000\n",
      "32500\n"
     ]
    }
   ],
   "source": [
    "price_list = [32100, 32150, 32000, 32500]\n",
    "\n",
    "for i in range(0,4):\n",
    "    print(price_list[i])"
   ]
  },
  {
   "cell_type": "markdown",
   "id": "34f2e84e",
   "metadata": {},
   "source": [
    "172 아래와 같이 리스트의 데이터를 출력하라. 단, for문과 range문을 사용하라.\n",
    "\n",
    "> price_list = [32100, 32150, 32000, 32500]\n",
    "\n",
    "> 0 32100   \n",
    "1 32150      \n",
    "2 32000   \n",
    "3 32500   "
   ]
  },
  {
   "cell_type": "code",
   "execution_count": 2,
   "id": "8e51dc5c",
   "metadata": {},
   "outputs": [
    {
     "name": "stdout",
     "output_type": "stream",
     "text": [
      "0 32100\n",
      "1 32150\n",
      "2 32000\n",
      "3 32500\n"
     ]
    }
   ],
   "source": [
    "for i in range(0,4):\n",
    "    print(i, price_list[i])"
   ]
  },
  {
   "cell_type": "markdown",
   "id": "52fbdd51",
   "metadata": {},
   "source": [
    "173 아래와 같이 리스트의 데이터를 출력하라. 단, for문과 range문을 사용하라.\n",
    "\n",
    "> price_list = [32100, 32150, 32000, 32500]\n",
    "\n",
    "> 3 32100   \n",
    "2 32150   \n",
    "1 32000   \n",
    "0 32500   "
   ]
  },
  {
   "cell_type": "code",
   "execution_count": 3,
   "id": "c316b948",
   "metadata": {},
   "outputs": [
    {
     "name": "stdout",
     "output_type": "stream",
     "text": [
      "3 32100\n",
      "2 32150\n",
      "1 32000\n",
      "0 32500\n"
     ]
    }
   ],
   "source": [
    "for i in range(0,4):\n",
    "    print(3-i, price_list[i])"
   ]
  },
  {
   "cell_type": "markdown",
   "id": "e386446c",
   "metadata": {},
   "source": [
    "174 아래와 같이 리스트의 데이터를 출력하라. 단, for문과 range문을 사용하라.\n",
    "\n",
    "> price_list = [32100, 32150, 32000, 32500]\n",
    "\n",
    "> 100 32150   \n",
    "110 32000   \n",
    "120 32500   "
   ]
  },
  {
   "cell_type": "code",
   "execution_count": 4,
   "id": "6fd450e0",
   "metadata": {},
   "outputs": [
    {
     "name": "stdout",
     "output_type": "stream",
     "text": [
      "100 32150\n",
      "110 32000\n",
      "120 32500\n"
     ]
    }
   ],
   "source": [
    "for i in range(1,4):\n",
    "    print(10*i+90, price_list[i])"
   ]
  },
  {
   "cell_type": "markdown",
   "id": "2541f84f",
   "metadata": {},
   "source": [
    "175 my_list를 아래와 같이 출력하라.\n",
    "\n",
    "> my_list = [\"가\", \"나\", \"다\", \"라\"]\n",
    "\n",
    "> 가 나   \n",
    "나 다   \n",
    "다 라   "
   ]
  },
  {
   "cell_type": "code",
   "execution_count": 5,
   "id": "440a342d",
   "metadata": {},
   "outputs": [
    {
     "name": "stdout",
     "output_type": "stream",
     "text": [
      "가 나\n",
      "나 다\n",
      "다 라\n"
     ]
    }
   ],
   "source": [
    "my_list = [\"가\", \"나\", \"다\", \"라\"]\n",
    "\n",
    "for i in range(0,3):\n",
    "    print(my_list[i], my_list[i+1])"
   ]
  },
  {
   "cell_type": "markdown",
   "id": "946eee37",
   "metadata": {},
   "source": [
    "176 리스트를 아래와 같이 출력하라.\n",
    "\n",
    "> my_list = [\"가\", \"나\", \"다\", \"라\", \"마\"]\n",
    "\n",
    "> 가 나 다   \n",
    "나 다 라    \n",
    "다 라 마   "
   ]
  },
  {
   "cell_type": "code",
   "execution_count": 6,
   "id": "94e67fb3",
   "metadata": {},
   "outputs": [
    {
     "name": "stdout",
     "output_type": "stream",
     "text": [
      "가 나 다\n",
      "나 다 라\n",
      "다 라 마\n"
     ]
    }
   ],
   "source": [
    "my_list = [\"가\", \"나\", \"다\", \"라\", \"마\"]\n",
    "for i in [0, 1, 2]:\n",
    "    print(my_list[i], my_list[i+1], my_list[i+2])"
   ]
  },
  {
   "cell_type": "markdown",
   "id": "86404c7d",
   "metadata": {},
   "source": [
    "177 반복문과 range 함수를 사용해서 my_list를 아래와 같이 출력하라.\n",
    "\n",
    "> my_list = [\"가\", \"나\", \"다\", \"라\"]\n",
    "\n",
    "> 라 다   \n",
    "다 나   \n",
    "나 가   "
   ]
  },
  {
   "cell_type": "code",
   "execution_count": 7,
   "id": "02fd8677",
   "metadata": {},
   "outputs": [
    {
     "name": "stdout",
     "output_type": "stream",
     "text": [
      "라 다\n",
      "다 나\n",
      "나 가\n"
     ]
    }
   ],
   "source": [
    "my_list = [\"가\", \"나\", \"다\", \"라\"]\n",
    "for i in [3,2,1]:\n",
    "    print(my_list[i], my_list[i-1])"
   ]
  },
  {
   "cell_type": "markdown",
   "id": "ceaf9229",
   "metadata": {},
   "source": [
    "178\n",
    "리스트에는 네 개의 정수가 저장되어 있다. 각각의 데이터에 대해서 자신과 우측값과의 차분값을 화면에 출력하라.\n",
    "\n",
    "> my_list = [100, 200, 400, 800]\n",
    "\n",
    "예를들어 100을 기준으로 우측에 위치한 200과의 차분 값를 화면에 출력하고, 200을 기준으로 우측에 위치한 400과의 차분값을 화면에 출력한다. 이어서 400을 기준으로 우측에 위치한 800과의 차분값을 화면에 출력한다.\n",
    "\n",
    "> 100   \n",
    "200   \n",
    "400"
   ]
  },
  {
   "cell_type": "code",
   "execution_count": 8,
   "id": "b2f1bf34",
   "metadata": {},
   "outputs": [
    {
     "name": "stdout",
     "output_type": "stream",
     "text": [
      "100\n",
      "200\n",
      "400\n"
     ]
    }
   ],
   "source": [
    "my_list = [100, 200, 400, 800]\n",
    "for i in [0,1,2]:\n",
    "    print(abs(my_list[i+1] - my_list[i]))"
   ]
  },
  {
   "cell_type": "code",
   "execution_count": 9,
   "id": "ecbd02b8",
   "metadata": {},
   "outputs": [
    {
     "name": "stdout",
     "output_type": "stream",
     "text": [
      "100\n",
      "200\n",
      "400\n"
     ]
    }
   ],
   "source": [
    "# 모범답안\n",
    "for i in range(len(my_list) - 1):\n",
    "    print(abs(my_list[i+1] - my_list[i]))"
   ]
  },
  {
   "cell_type": "markdown",
   "id": "724033b3",
   "metadata": {},
   "source": [
    "179\n",
    "리스트에는 6일 간의 종가 데이터가 저장되어 있다. 종가 데이터의 3일 이동 평균을 계산하고 이를 화면에 출력하라.\n",
    "\n",
    "> my_list = [100, 200, 400, 800, 1000, 1300]\n",
    "\n",
    "첫 번째 줄에는 100, 200, 400의 평균값이 출력된다. 두 번째 줄에는 200, 400, 800의 평균값이 출력된다. 같은 방식으로 나머지 데이터의 평균을 출력한다.\n",
    "\n",
    "> 233.33333333333334   \n",
    "466.6666666666667   \n",
    "733.3333333333334   \n",
    "1033.3333333333333"
   ]
  },
  {
   "cell_type": "code",
   "execution_count": 10,
   "id": "4076a819",
   "metadata": {},
   "outputs": [
    {
     "name": "stdout",
     "output_type": "stream",
     "text": [
      "233.33333333333334\n",
      "466.6666666666667\n",
      "733.3333333333334\n",
      "1033.3333333333333\n"
     ]
    }
   ],
   "source": [
    "my_list = [100, 200, 400, 800, 1000, 1300]\n",
    "for i in range(1, len(my_list)-1):\n",
    "    print(abs(my_list[i-1] + my_list[i] + my_list[i+1]) / 3)"
   ]
  },
  {
   "cell_type": "markdown",
   "id": "d8327be1",
   "metadata": {},
   "source": [
    "180\n",
    "리스트에 5일간의 저가, 고가 정보가 저장돼 있다. 고가와 저가의 차를 변동폭이라고 정의할 때, low, high 두 개의 리스트를 사용해서 5일간의 변동폭을 volatility 리스트에 저장하라.\n",
    "\n",
    "> low_prices  = [100, 200, 400, 800, 1000]   \n",
    "high_prices = [150, 300, 430, 880, 1000]"
   ]
  },
  {
   "cell_type": "code",
   "execution_count": 11,
   "id": "0d79dade",
   "metadata": {},
   "outputs": [
    {
     "name": "stdout",
     "output_type": "stream",
     "text": [
      "[50]\n",
      "[50, 100]\n",
      "[50, 100, 30]\n",
      "[50, 100, 30, 80]\n",
      "[50, 100, 30, 80, 0]\n"
     ]
    }
   ],
   "source": [
    "low_prices = [100, 200, 400, 800, 1000]\n",
    "high_prices = [150, 300, 430, 880, 1000]\n",
    "\n",
    "volatility = []\n",
    "\n",
    "for i in range(len(low_prices)):\n",
    "    volatility.append(high_prices[i] - low_prices[i])\n",
    "    print(volatility)"
   ]
  },
  {
   "attachments": {
    "image.png": {
     "image/png": "[encoded data removed]"
    }
   },
   "cell_type": "markdown",
   "id": "9817d259",
   "metadata": {},
   "source": [
    "181\n",
    "아래 표에서 하나의 행을 하나의 리스트로, 총 3개의 리스트를 갖는 이차원 리스트 apart를 정의하라.\n",
    "![image.png](attachment:image.png)"
   ]
  },
  {
   "cell_type": "code",
   "execution_count": 12,
   "id": "0113c185",
   "metadata": {},
   "outputs": [],
   "source": [
    "apart = [ [\"101호\", \"102호\"], [\"201호\", \"202호\"], [\"301호\", \"302호\"] ]"
   ]
  },
  {
   "attachments": {
    "image.png": {
     "image/png": "[encoded data removed]"
    }
   },
   "cell_type": "markdown",
   "id": "ce953cec",
   "metadata": {},
   "source": [
    "182\n",
    "아래 표에서 하나의 열을 하나의 리스트로, 총 2개의 리스트를 갖는 이차원 리스트 stock을 정의하라.\n",
    "![image.png](attachment:image.png)"
   ]
  },
  {
   "cell_type": "code",
   "execution_count": 13,
   "id": "ddd5dc80",
   "metadata": {},
   "outputs": [],
   "source": [
    "stock = [[\"시가\",100,200,300], [\"종가\", 80, 210, 330]]"
   ]
  },
  {
   "attachments": {
    "image.png": {
     "image/png": "[encoded data removed]"
    }
   },
   "cell_type": "markdown",
   "id": "c4f71fa6",
   "metadata": {},
   "source": [
    "183\n",
    "아래 표를 stock 이름의 딕셔너리로 표현하라.시가를 key로 저장하고, 나머지 같은 열의 데이터를 리스트로 저장해서 value로 저장한다. 종가 역시 key로 저장하고 나머지 같은 열의 데이터를 리스트로 저장해서 value로 저장한다.\n",
    "![image.png](attachment:image.png)"
   ]
  },
  {
   "cell_type": "code",
   "execution_count": 14,
   "id": "eb0d1e1d",
   "metadata": {},
   "outputs": [],
   "source": [
    "stock = {\"시가\":[100,200,300], \"종가\":[80, 210, 330]}"
   ]
  },
  {
   "attachments": {
    "image.png": {
     "image/png": "[encoded data removed]"
    }
   },
   "cell_type": "markdown",
   "id": "dceb86a6",
   "metadata": {},
   "source": [
    "184\n",
    "아래 표를 stock 이라는 이름의 딕셔너리로 표현하라. 날짜를 key로 저장하고, 나머지 같은 행의 데이터를 리스트로 저장해서 value로 저장한다. 첫 열이 날짜이다.![image.png](attachment:image.png)"
   ]
  },
  {
   "cell_type": "code",
   "execution_count": 15,
   "id": "2fa9eb79",
   "metadata": {},
   "outputs": [],
   "source": [
    "stock = {\"10/10\":[80,110,70,90], \"10/11\":[210, 230, 190, 200]}"
   ]
  },
  {
   "cell_type": "markdown",
   "id": "1757ce13",
   "metadata": {},
   "source": [
    "185\n",
    "리스트에 저장된 데이터를 아래와 같이 출력하라.\n",
    "> apart = [ [101, 102], [201, 202], [301, 302] ]\n",
    "\n",
    "> 101 호   \n",
    "102 호   \n",
    "201 호   \n",
    "202 호   \n",
    "301 호   \n",
    "302 호"
   ]
  },
  {
   "cell_type": "code",
   "execution_count": 16,
   "id": "a705211f",
   "metadata": {},
   "outputs": [
    {
     "name": "stdout",
     "output_type": "stream",
     "text": [
      "101 호\n",
      "102 호\n",
      "201 호\n",
      "202 호\n",
      "301 호\n",
      "302 호\n"
     ]
    }
   ],
   "source": [
    "apart = [ [101, 102], [201, 202], [301, 302] ]\n",
    "\n",
    "for row in apart:\n",
    "    for col in row:\n",
    "        print(col,\"호\")"
   ]
  },
  {
   "cell_type": "markdown",
   "id": "49aebb0d",
   "metadata": {},
   "source": [
    "186\n",
    "리스트에 저장된 데이터를 아래와 같이 출력하라.\n",
    "\n",
    "> apart = [ [101, 102], [201, 202], [301, 302] ]\n",
    "\n",
    "> 301 호   \n",
    "302 호   \n",
    "201 호   \n",
    "202 호   \n",
    "101 호   \n",
    "102 호"
   ]
  },
  {
   "cell_type": "code",
   "execution_count": 17,
   "id": "9188bedf",
   "metadata": {},
   "outputs": [
    {
     "name": "stdout",
     "output_type": "stream",
     "text": [
      "301 호\n",
      "302 호\n",
      "201 호\n",
      "202 호\n",
      "101 호\n",
      "102 호\n"
     ]
    }
   ],
   "source": [
    "for row in apart[::-1]:\n",
    "    for col in row:\n",
    "        print(col,\"호\")"
   ]
  },
  {
   "cell_type": "markdown",
   "id": "f46af0f1",
   "metadata": {},
   "source": [
    "187\n",
    "리스트에 저장된 데이터를 아래와 같이 출력하라.\n",
    "\n",
    "> apart = [ [101, 102], [201, 202], [301, 302] ]\n",
    "\n",
    "> 302 호   \n",
    "301 호   \n",
    "202 호   \n",
    "201 호   \n",
    "102 호   \n",
    "101 호"
   ]
  },
  {
   "cell_type": "code",
   "execution_count": 18,
   "id": "e1ce9404",
   "metadata": {},
   "outputs": [
    {
     "name": "stdout",
     "output_type": "stream",
     "text": [
      "302 호\n",
      "301 호\n",
      "202 호\n",
      "201 호\n",
      "102 호\n",
      "101 호\n"
     ]
    }
   ],
   "source": [
    "for row in apart[::-1]:\n",
    "    for col in row[::-1]:\n",
    "        print(col,\"호\")"
   ]
  },
  {
   "attachments": {
    "image.png": {
     "image/png": "[encoded data removed]"
    }
   },
   "cell_type": "markdown",
   "id": "82b0a6b7",
   "metadata": {},
   "source": [
    "188\n",
    "리스트에 저장된 데이터를 아래와 같이 출력하라.\n",
    "\n",
    "> apart = [ [101, 102], [201, 202], [301, 302] ]   \n",
    "![image.png](attachment:image.png)"
   ]
  },
  {
   "cell_type": "code",
   "execution_count": 19,
   "id": "6defb5a0",
   "metadata": {},
   "outputs": [
    {
     "name": "stdout",
     "output_type": "stream",
     "text": [
      "101 호\n",
      "-----\n",
      "102 호\n",
      "-----\n",
      "201 호\n",
      "-----\n",
      "202 호\n",
      "-----\n",
      "301 호\n",
      "-----\n",
      "302 호\n",
      "-----\n"
     ]
    }
   ],
   "source": [
    "for row in apart:\n",
    "    for col in row:\n",
    "        print(col,\"호\")\n",
    "        print(\"-----\")\n",
    "#       print(\"-\" * 5)"
   ]
  },
  {
   "attachments": {
    "image.png": {
     "image/png": "[encoded data removed]"
    }
   },
   "cell_type": "markdown",
   "id": "e133870b",
   "metadata": {},
   "source": [
    "189\n",
    "리스트에 저장된 데이터를 아래와 같이 출력하라.\n",
    "\n",
    "> apart = [ [101, 102], [201, 202], [301, 302] ]\n",
    "![image.png](attachment:image.png)"
   ]
  },
  {
   "cell_type": "code",
   "execution_count": 20,
   "id": "2b93bb15",
   "metadata": {},
   "outputs": [
    {
     "name": "stdout",
     "output_type": "stream",
     "text": [
      "101 호\n",
      "102 호\n",
      "-----\n",
      "201 호\n",
      "202 호\n",
      "-----\n",
      "301 호\n",
      "302 호\n",
      "-----\n"
     ]
    }
   ],
   "source": [
    "for row in apart:\n",
    "    for col in row:\n",
    "        print(col,\"호\")\n",
    "    print(\"-\" * 5)"
   ]
  },
  {
   "attachments": {
    "image.png": {
     "image/png": "[encoded data removed]"
    }
   },
   "cell_type": "markdown",
   "id": "eb9cfc56",
   "metadata": {},
   "source": [
    "190\n",
    "리스트에 저장된 데이터를 아래와 같이 출력하라.\n",
    "\n",
    "> apart = [ [101, 102], [201, 202], [301, 302] ]\n",
    "![image.png](attachment:image.png)"
   ]
  },
  {
   "cell_type": "code",
   "execution_count": 21,
   "id": "b687c714",
   "metadata": {},
   "outputs": [
    {
     "name": "stdout",
     "output_type": "stream",
     "text": [
      "101 호\n",
      "102 호\n",
      "201 호\n",
      "202 호\n",
      "301 호\n",
      "302 호\n",
      "-----\n"
     ]
    }
   ],
   "source": [
    "for row in apart:\n",
    "    for col in row:\n",
    "        print(col,\"호\")\n",
    "print(\"-\" * 5)"
   ]
  },
  {
   "cell_type": "markdown",
   "id": "b9c94377",
   "metadata": {},
   "source": [
    "191\n",
    "data에는 매수한 종목들의 OHLC (open/high/low/close) 가격 정보가 바인딩 되어있다.\n",
    "\n",
    "> data = [\n",
    "    [ 2000,  3050,  2050,  1980],\n",
    "    [ 7500,  2050,  2050,  1980],\n",
    "    [15450, 15050, 15550, 14900]\n",
    "]\n",
    "\n",
    "수수료를 0.014 %로 가정할 때, 각 가격에 수수료를 포함한 가격을 한라인에 하나씩 출력하라.\n",
    "\n",
    "> 2000.28   \n",
    "3050.427   \n",
    "2050.2870000000003   \n",
    "..."
   ]
  },
  {
   "cell_type": "code",
   "execution_count": 22,
   "id": "4defbbf5",
   "metadata": {},
   "outputs": [
    {
     "name": "stdout",
     "output_type": "stream",
     "text": [
      "2000.28\n",
      "3050.427\n",
      "2050.2870000000003\n",
      "1980.2772\n",
      "7501.05\n",
      "2050.2870000000003\n",
      "2050.2870000000003\n",
      "1980.2772\n",
      "15452.163\n",
      "15052.107\n",
      "15552.177\n",
      "14902.086000000001\n"
     ]
    }
   ],
   "source": [
    "data = [ [ 2000, 3050, 2050, 1980], [ 7500, 2050, 2050, 1980], [15450, 15050, 15550, 14900] ]\n",
    "\n",
    "for line in data:\n",
    "    for column in line:\n",
    "        print(column * 1.00014)"
   ]
  },
  {
   "attachments": {
    "image.png": {
     "image/png": "[encoded data removed]"
    }
   },
   "cell_type": "markdown",
   "id": "6a024d30",
   "metadata": {},
   "source": [
    "192\n",
    "191번의 출력 결과에 행단위로 \"----\" 구분자를 추가하라.\n",
    "![image.png](attachment:image.png)"
   ]
  },
  {
   "cell_type": "code",
   "execution_count": 23,
   "id": "676adc4a",
   "metadata": {},
   "outputs": [
    {
     "name": "stdout",
     "output_type": "stream",
     "text": [
      "2000.28\n",
      "3050.427\n",
      "2050.2870000000003\n",
      "1980.2772\n",
      "----\n",
      "7501.05\n",
      "2050.2870000000003\n",
      "2050.2870000000003\n",
      "1980.2772\n",
      "----\n",
      "15452.163\n",
      "15052.107\n",
      "15552.177\n",
      "14902.086000000001\n",
      "----\n"
     ]
    }
   ],
   "source": [
    "for line in data:\n",
    "    for column in line:\n",
    "        print(column * 1.00014)\n",
    "    print(\"-\"*4)"
   ]
  },
  {
   "cell_type": "markdown",
   "id": "9b8c478e",
   "metadata": {},
   "source": [
    "193\n",
    "192 번 문제의 결괏값을 result 이름의 리스트에 1차원 배열로 저장하라.\n",
    "\n",
    "> print(result)   \n",
    "[2000.28, 3050.427, 2050.2870000000003, 1980.2772, 7501.05, 2050.2870000000003, 2050.2870000000003, ...]"
   ]
  },
  {
   "cell_type": "code",
   "execution_count": 24,
   "id": "27758163",
   "metadata": {},
   "outputs": [
    {
     "name": "stdout",
     "output_type": "stream",
     "text": [
      "[2000.28, 3050.427, 2050.2870000000003, 1980.2772, 7501.05, 2050.2870000000003, 2050.2870000000003, 1980.2772, 15452.163, 15052.107, 15552.177, 14902.086000000001]\n"
     ]
    }
   ],
   "source": [
    "result = []\n",
    "\n",
    "for line in data:\n",
    "    for column in line:\n",
    "        result.append(column * 1.00014)\n",
    "print(result)"
   ]
  },
  {
   "cell_type": "markdown",
   "id": "3e0d4b6d",
   "metadata": {},
   "source": [
    "194\n",
    "191번 문제의 결괏값을 result 이름의 리스트에 2차원 배열로 저장하라. 저장 포맷은 아래와 같다. 각 행에 대한 데이터끼리 리스트에 저장되어야 한다.\n",
    "\n",
    "> print(result)   \n",
    "[\n",
    " [2000.28, 3050.427, 2050.2870000000003, 1980.2772],   \n",
    " [7501.05, 2050.2870000000003, 2050.2870000000003, 1980.2772],   \n",
    " [15452.163, 15052.107, 15552.177, 14902.086000000001]\n",
    "]"
   ]
  },
  {
   "cell_type": "code",
   "execution_count": 25,
   "id": "009eef50",
   "metadata": {},
   "outputs": [
    {
     "name": "stdout",
     "output_type": "stream",
     "text": [
      "[[2000.28, 3050.427, 2050.2870000000003, 1980.2772], [7501.05, 2050.2870000000003, 2050.2870000000003, 1980.2772], [15452.163, 15052.107, 15552.177, 14902.086000000001]]\n"
     ]
    }
   ],
   "source": [
    "result = []\n",
    "\n",
    "for line in data:\n",
    "    sub = []\n",
    "    for column in line:\n",
    "        sub.append(column * 1.00014)\n",
    "    result.append(sub)\n",
    "print(result)"
   ]
  },
  {
   "cell_type": "markdown",
   "id": "dc42ce70",
   "metadata": {},
   "source": [
    "195\n",
    "ohlc 리스트에는 시가(open), 고가 (high), 저가 (low) , 종가(close)가 날짜별로 저장돼 있다. 화면에 종가데이터를 출력하라.\n",
    "\n",
    "> ohlc = [[\"open\", \"high\", \"low\", \"close\"],   \n",
    "        [100, 110, 70, 100],   \n",
    "        [200, 210, 180, 190],   \n",
    "        [300, 310, 300, 310]]   \n",
    "        \n",
    "> 100   \n",
    "190   \n",
    "310   "
   ]
  },
  {
   "cell_type": "code",
   "execution_count": 26,
   "id": "4141a7bb",
   "metadata": {},
   "outputs": [
    {
     "name": "stdout",
     "output_type": "stream",
     "text": [
      "100\n",
      "190\n",
      "310\n"
     ]
    }
   ],
   "source": [
    "ohlc = [[\"open\", \"high\", \"low\", \"close\"],\n",
    "[100, 110, 70, 100],\n",
    "[200, 210, 180, 190],\n",
    "[300, 310, 300, 310]]\n",
    "\n",
    "for row in ohlc[1:]:\n",
    "    print(row[3])"
   ]
  },
  {
   "cell_type": "markdown",
   "id": "07e5b6e2",
   "metadata": {},
   "source": [
    "196\n",
    "ohlc 리스트에는 시가(open), 고가 (high), 저가 (low) , 종가(close)가 날짜별로 저장돼 있다. 종가가 150원보다 큰경우에만 종가를 출력하라.\n",
    "\n",
    "> ohlc = [[\"open\", \"high\", \"low\", \"close\"],   \n",
    "        [100, 110, 70, 100],   \n",
    "        [200, 210, 180, 190],   \n",
    "        [300, 310, 300, 310]]   \n",
    "        \n",
    "> 190   \n",
    "310"
   ]
  },
  {
   "cell_type": "code",
   "execution_count": 27,
   "id": "94acb934",
   "metadata": {},
   "outputs": [
    {
     "name": "stdout",
     "output_type": "stream",
     "text": [
      "190\n",
      "310\n"
     ]
    }
   ],
   "source": [
    "for row in ohlc[1:]:\n",
    "    if row[3] > 150:\n",
    "        print(row[3])"
   ]
  },
  {
   "cell_type": "markdown",
   "id": "5a8e589a",
   "metadata": {},
   "source": [
    "197\n",
    "ohlc 리스트에는 시가(open), 고가 (high), 저가 (low) , 종가(close)가 날짜별로 저장돼 있다. 종가가 시가 보다 크거나 같은 경우에만 종가를 출력하라.\n",
    "\n",
    "> ohlc = [[\"open\", \"high\", \"low\", \"close\"],   \n",
    "        [100, 110, 70, 100],   \n",
    "        [200, 210, 180, 190],   \n",
    "        [300, 310, 300, 310]]\n",
    "        \n",
    "> 100   \n",
    "310"
   ]
  },
  {
   "cell_type": "code",
   "execution_count": 28,
   "id": "9aaaa9ea",
   "metadata": {},
   "outputs": [
    {
     "name": "stdout",
     "output_type": "stream",
     "text": [
      "100\n",
      "310\n"
     ]
    }
   ],
   "source": [
    "for row in ohlc[1:]:\n",
    "    if row[3] >= row[0]:\n",
    "        print(row[3])"
   ]
  },
  {
   "cell_type": "markdown",
   "id": "d3fc7eae",
   "metadata": {},
   "source": [
    "198\n",
    "ohlc 리스트에는 시가(open), 고가 (high), 저가 (low) , 종가(close)가 날짜별로 저장돼 있다. 고가와 저가의 차이를 변동폭으로 정의할 때 변동폭을 volatility 이름의 리스트에 저장하라.\n",
    "\n",
    "> ohlc = [[\"open\", \"high\", \"low\", \"close\"],   \n",
    "        [100, 110, 70, 100],   \n",
    "        [200, 210, 180, 190],   \n",
    "        [300, 310, 300, 310]]   \n",
    "\n",
    "> print(volatility)   \n",
    "[40, 30, 10]"
   ]
  },
  {
   "cell_type": "code",
   "execution_count": 29,
   "id": "dad93007",
   "metadata": {},
   "outputs": [
    {
     "name": "stdout",
     "output_type": "stream",
     "text": [
      "[40, 30, 10]\n"
     ]
    }
   ],
   "source": [
    "volatility = []\n",
    "\n",
    "for row in ohlc[1:]:\n",
    "    volatility.append(row[1]-row[2])\n",
    "print(volatility)"
   ]
  },
  {
   "cell_type": "code",
   "execution_count": 30,
   "id": "7dca1de8",
   "metadata": {},
   "outputs": [
    {
     "name": "stdout",
     "output_type": "stream",
     "text": [
      "[40, 30, 10]\n"
     ]
    }
   ],
   "source": [
    "# range 구문 사용\n",
    "volatility = []\n",
    "\n",
    "for i in range(1, len(ohlc)):\n",
    "    volatility.append(ohlc[i][1]-ohlc[i][2])\n",
    "print(volatility)"
   ]
  },
  {
   "cell_type": "markdown",
   "id": "0ea6564f",
   "metadata": {},
   "source": [
    "199\n",
    "리스트에는 3일 간의 ohlc 데이터가 저장돼 있다. 종가가 시가보다 높은 날의 변동성 (고가 - 저가)을 화면에 출력하라.\n",
    "\n",
    "> ohlc = [[\"open\", \"high\", \"low\", \"close\"],   \n",
    "        [100, 110, 70, 100],   \n",
    "        [200, 210, 180, 190],   \n",
    "        [300, 310, 300, 310]]\n",
    "\n",
    "종가가 시가보다 높은 거래일의 OHLC는 [300, 310, 300, 310] 이다. 따라서 이 거래일의 변동성은 10 (310 - 300)이다.\n",
    "\n",
    "> 10"
   ]
  },
  {
   "cell_type": "code",
   "execution_count": 31,
   "id": "f91499eb",
   "metadata": {},
   "outputs": [
    {
     "name": "stdout",
     "output_type": "stream",
     "text": [
      "10\n"
     ]
    }
   ],
   "source": [
    "for row in ohlc[1:]:\n",
    "    if row[3] > row[0]:\n",
    "        print(row[1]-row[2])"
   ]
  },
  {
   "cell_type": "markdown",
   "id": "23b52a04",
   "metadata": {},
   "source": [
    "200\n",
    "리스트에는 3일 간의 ohlc 데이터가 저장돼 있다. 시가에 매수해서 종가에 매도 했을 경우 총 수익금을 계산하라.\n",
    "\n",
    "> ohlc = [[\"open\", \"high\", \"low\", \"close\"],   \n",
    "        [100, 110, 70, 100],   \n",
    "        [200, 210, 180, 190],   \n",
    "        [300, 310, 300, 310]]\n",
    "\n",
    "1일차 수익 0원 (100 - 100), 2일차 수익 -10원 (190 - 200), 3일차 수익 10원 (310 - 300) 이다.\n",
    "\n",
    "> 0"
   ]
  },
  {
   "cell_type": "code",
   "execution_count": 32,
   "id": "f10acbcd",
   "metadata": {},
   "outputs": [
    {
     "name": "stdout",
     "output_type": "stream",
     "text": [
      "0\n",
      "-10\n",
      "10\n"
     ]
    }
   ],
   "source": [
    "for row in ohlc[1:]:\n",
    "    print(row[3]-row[0])"
   ]
  },
  {
   "cell_type": "code",
   "execution_count": 33,
   "id": "7c59829b",
   "metadata": {},
   "outputs": [
    {
     "name": "stdout",
     "output_type": "stream",
     "text": [
      "0\n",
      "-10\n",
      "0\n"
     ]
    }
   ],
   "source": [
    "# 모범답안\n",
    "profit = 0\n",
    "for row in ohlc[1:]:\n",
    "    profit += (row[3] - row[0])\n",
    "    print(profit)"
   ]
  }
 ],
 "metadata": {
  "kernelspec": {
   "display_name": "Python 3",
   "language": "python",
   "name": "python3"
  },
  "language_info": {
   "codemirror_mode": {
    "name": "ipython",
    "version": 3
   },
   "file_extension": ".py",
   "mimetype": "text/x-python",
   "name": "python",
   "nbconvert_exporter": "python",
   "pygments_lexer": "ipython3",
   "version": "3.8.8"
  }
 },
 "nbformat": 4,
 "nbformat_minor": 5
}
