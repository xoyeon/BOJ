{
 "cells": [
  {
   "cell_type": "code",
   "execution_count": 1,
   "id": "48fc4b31",
   "metadata": {},
   "outputs": [
    {
     "name": "stdout",
     "output_type": "stream",
     "text": [
      "사과\n",
      "귤\n",
      "수박\n"
     ]
    }
   ],
   "source": [
    "# 131 for문의 실행결과를 예측하라.\n",
    "과일 = [\"사과\", \"귤\", \"수박\"]\n",
    "for 변수 in 과일:\n",
    "    print(변수)"
   ]
  },
  {
   "cell_type": "code",
   "execution_count": 2,
   "id": "8499701d",
   "metadata": {},
   "outputs": [
    {
     "name": "stdout",
     "output_type": "stream",
     "text": [
      "#####\n",
      "#####\n",
      "#####\n"
     ]
    }
   ],
   "source": [
    "# 132 for문의 실행결과를 예측하라.\n",
    "과일 = [\"사과\", \"귤\", \"수박\"]\n",
    "for 변수 in 과일:\n",
    "  print(\"#####\")"
   ]
  },
  {
   "cell_type": "code",
   "execution_count": 3,
   "id": "6ec991ce",
   "metadata": {
    "scrolled": true
   },
   "outputs": [
    {
     "name": "stdout",
     "output_type": "stream",
     "text": [
      "A\n",
      "B\n",
      "C\n"
     ]
    }
   ],
   "source": [
    "# 133 다음 for 문과 동일한 기능을 수행하는 코드를 작성하세요.\n",
    "for 변수 in [\"A\", \"B\", \"C\"]:\n",
    "  print(변수)"
   ]
  },
  {
   "cell_type": "code",
   "execution_count": 4,
   "id": "0fc1c059",
   "metadata": {},
   "outputs": [
    {
     "name": "stdout",
     "output_type": "stream",
     "text": [
      "출력: A\n",
      "출력: B\n",
      "출력: C\n"
     ]
    }
   ],
   "source": [
    "# 134 for문을 풀어서 동일한 동작을하는 코드를 작성하라.\n",
    "for 변수 in [\"A\", \"B\", \"C\"]:\n",
    "  print(\"출력:\", 변수)"
   ]
  },
  {
   "cell_type": "code",
   "execution_count": 5,
   "id": "bac600f0",
   "metadata": {},
   "outputs": [
    {
     "name": "stdout",
     "output_type": "stream",
     "text": [
      "변환: a\n",
      "변환: b\n",
      "변환: c\n"
     ]
    }
   ],
   "source": [
    "# 135 for문을 풀어서 동일한 동작을 하는 코드를 작성하라.\n",
    "for 변수 in [\"A\", \"B\", \"C\"]:\n",
    "  b = 변수.lower()\n",
    "  print(\"변환:\", b)"
   ]
  },
  {
   "cell_type": "code",
   "execution_count": 6,
   "id": "c957ee22",
   "metadata": {},
   "outputs": [
    {
     "name": "stdout",
     "output_type": "stream",
     "text": [
      "10\n",
      "20\n",
      "30\n"
     ]
    }
   ],
   "source": [
    "# 136 다음 코드를 for문으로 작성하라.\n",
    "for 변수 in ['10','20','30']:\n",
    "    print(변수)"
   ]
  },
  {
   "cell_type": "code",
   "execution_count": 7,
   "id": "be54afa2",
   "metadata": {},
   "outputs": [
    {
     "name": "stdout",
     "output_type": "stream",
     "text": [
      "10\n",
      "20\n",
      "30\n"
     ]
    }
   ],
   "source": [
    "# 137 다음 코드를 for문으로 작성하라.\n",
    "num = [10,20,30]\n",
    "for i in num:\n",
    "    print(i)"
   ]
  },
  {
   "cell_type": "code",
   "execution_count": 8,
   "id": "a8a1ceab",
   "metadata": {},
   "outputs": [
    {
     "name": "stdout",
     "output_type": "stream",
     "text": [
      "10\n",
      "-------\n",
      "20\n",
      "-------\n",
      "30\n",
      "-------\n"
     ]
    }
   ],
   "source": [
    "# 138 다음 코드를 for문으로 작성하라.\n",
    "\n",
    "num = [10,20,30]\n",
    "\n",
    "for i in num:\n",
    "    print(i)\n",
    "    print(\"-------\")"
   ]
  },
  {
   "cell_type": "code",
   "execution_count": 9,
   "id": "c4e0ffdd",
   "metadata": {},
   "outputs": [
    {
     "name": "stdout",
     "output_type": "stream",
     "text": [
      "++++\n",
      "10\n",
      "20\n",
      "30\n"
     ]
    }
   ],
   "source": [
    "# 139 다음 코드를 for문으로 작성하라.\n",
    "\n",
    "num = [10,20,30]\n",
    "\n",
    "print(\"++++\")\n",
    "for i in num:\n",
    "    print(i)"
   ]
  },
  {
   "cell_type": "code",
   "execution_count": 10,
   "id": "fd97a966",
   "metadata": {},
   "outputs": [
    {
     "name": "stdout",
     "output_type": "stream",
     "text": [
      "-------\n",
      "-------\n",
      "-------\n",
      "-------\n"
     ]
    }
   ],
   "source": [
    "# 140 다음 코드를 for문으로 작성하라.\n",
    "for dot in [1,2,3,4]:\n",
    "    print(\"-------\")"
   ]
  },
  {
   "cell_type": "markdown",
   "id": "621660ce",
   "metadata": {},
   "source": [
    "141 다음과 같이 판매가가 저장된 리스트가 있을 때 부가세가 포함된 가격을 for 문을 사용해서 화면에 출력하라. 단 부가세는 10원으로 가정한다.\n",
    "> 리스트 = [100, 200, 300]   \n",
    "110   \n",
    "210   \n",
    "310   "
   ]
  },
  {
   "cell_type": "code",
   "execution_count": 11,
   "id": "d9fea451",
   "metadata": {},
   "outputs": [
    {
     "name": "stdout",
     "output_type": "stream",
     "text": [
      "110\n",
      "210\n",
      "310\n"
     ]
    }
   ],
   "source": [
    "리스트 = [100, 200, 300]\n",
    "\n",
    "for i in 리스트:\n",
    "    print(i+10)"
   ]
  },
  {
   "cell_type": "markdown",
   "id": "e4812e60",
   "metadata": {},
   "source": [
    "142 for 문을 사용해서 리스트에 저장된 값을 다음과 같이 출력하라.\n",
    "\n",
    "> 리스트 = [\"김밥\", \"라면\", \"튀김\"]   \n",
    "오늘의 메뉴: 김밥   \n",
    "오늘의 메뉴: 라면   \n",
    "오늘의 메뉴: 튀김   "
   ]
  },
  {
   "cell_type": "code",
   "execution_count": 12,
   "id": "73cbac60",
   "metadata": {},
   "outputs": [
    {
     "name": "stdout",
     "output_type": "stream",
     "text": [
      "오늘의 메뉴: 김밥\n",
      "오늘의 메뉴: 라면\n",
      "오늘의 메뉴: 튀김\n"
     ]
    }
   ],
   "source": [
    "리스트 = [\"김밥\", \"라면\", \"튀김\"]\n",
    "for menu in 리스트:\n",
    "    print(\"오늘의 메뉴:\", menu)"
   ]
  },
  {
   "cell_type": "markdown",
   "id": "7b0d093f",
   "metadata": {},
   "source": [
    "143 리스트에 주식 종목이름이 저장돼 있다.\n",
    "\n",
    "> 리스트 = [\"SK하이닉스\", \"삼성전자\", \"LG전자\"]\n",
    "\n",
    "저장된 문자열의 길이를 다음과 같이 출력하라.\n",
    "\n",
    "> 6   \n",
    "> 4   \n",
    "> 4   "
   ]
  },
  {
   "cell_type": "code",
   "execution_count": 13,
   "id": "cc1e1134",
   "metadata": {},
   "outputs": [
    {
     "name": "stdout",
     "output_type": "stream",
     "text": [
      "6\n",
      "4\n",
      "4\n"
     ]
    }
   ],
   "source": [
    "리스트 = [\"SK하이닉스\", \"삼성전자\", \"LG전자\"]\n",
    "for stock in 리스트:\n",
    "    print(len(stock))"
   ]
  },
  {
   "cell_type": "markdown",
   "id": "7d20b407",
   "metadata": {},
   "source": [
    "144 리스트에는 동물이름이 문자열로 저장돼 있다.\n",
    "\n",
    "> 리스트 = ['dog', 'cat', 'parrot']\n",
    "\n",
    "동물 이름과 글자수를 다음과 같이 출력하라.\n",
    "\n",
    "> dog 3   \n",
    "> cat 3   \n",
    "> parrot 6   "
   ]
  },
  {
   "cell_type": "code",
   "execution_count": 14,
   "id": "dc289c0d",
   "metadata": {},
   "outputs": [
    {
     "name": "stdout",
     "output_type": "stream",
     "text": [
      "dog 3\n",
      "cat 3\n",
      "parrot 6\n"
     ]
    }
   ],
   "source": [
    "리스트 = ['dog', 'cat', 'parrot']\n",
    "for ani in 리스트:\n",
    "    print(ani, len(ani))"
   ]
  },
  {
   "cell_type": "markdown",
   "id": "325309a7",
   "metadata": {},
   "source": [
    "145 리스트에 동물 이름 저장돼 있다.\n",
    "\n",
    "> 리스트 = ['dog', 'cat', 'parrot']\n",
    "\n",
    "for문을 사용해서 동물 이름의 첫 글자만 출력하라.\n",
    "\n",
    "> d   \n",
    "> c   \n",
    "> p"
   ]
  },
  {
   "cell_type": "code",
   "execution_count": 15,
   "id": "708e6685",
   "metadata": {},
   "outputs": [
    {
     "name": "stdout",
     "output_type": "stream",
     "text": [
      "d\n",
      "c\n",
      "p\n"
     ]
    }
   ],
   "source": [
    "리스트 = ['dog', 'cat', 'parrot']\n",
    "for ani in 리스트:\n",
    "    print(ani[0])"
   ]
  },
  {
   "cell_type": "markdown",
   "id": "393b5080",
   "metadata": {},
   "source": [
    "146 리스트에는 세 개의 숫자가 바인딩돼 있다.\n",
    "\n",
    "> 리스트 = [1, 2, 3]\n",
    "\n",
    "for문을 사용해서 다음과 같이 출력하라.\n",
    "\n",
    "> 3 x 1   \n",
    "> 3 x 2   \n",
    "> 3 x 3"
   ]
  },
  {
   "cell_type": "code",
   "execution_count": 16,
   "id": "9406c237",
   "metadata": {},
   "outputs": [
    {
     "name": "stdout",
     "output_type": "stream",
     "text": [
      "3 * 1\n",
      "3 * 2\n",
      "3 * 3\n"
     ]
    }
   ],
   "source": [
    "리스트 = [1, 2, 3]\n",
    "for mul in 리스트:\n",
    "    print('3 *', mul)"
   ]
  },
  {
   "cell_type": "markdown",
   "id": "ef226482",
   "metadata": {},
   "source": [
    "147 리스트에는 세 개의 숫자가 바인딩돼 있다.\n",
    "\n",
    "> 리스트 = [1, 2, 3]\n",
    "\n",
    "for문을 사용해서 다음과 같이 출력하라.\n",
    "\n",
    "> 3 x 1 = 3   \n",
    "> 3 x 2 = 6   \n",
    "> 3 x 3 = 9"
   ]
  },
  {
   "cell_type": "code",
   "execution_count": 17,
   "id": "35d70318",
   "metadata": {},
   "outputs": [
    {
     "name": "stdout",
     "output_type": "stream",
     "text": [
      "3 * 1 = 3\n",
      "3 * 2 = 6\n",
      "3 * 3 = 9\n"
     ]
    }
   ],
   "source": [
    "리스트 = [1, 2, 3]\n",
    "for mul in 리스트:\n",
    "    print('3 *', mul, '=', 3*mul)"
   ]
  },
  {
   "cell_type": "code",
   "execution_count": 18,
   "id": "7d777614",
   "metadata": {},
   "outputs": [
    {
     "name": "stdout",
     "output_type": "stream",
     "text": [
      "3 x 1 = 3\n",
      "3 x 2 = 6\n",
      "3 x 3 = 9\n"
     ]
    }
   ],
   "source": [
    "# 모범답안\n",
    "리스트 = [1, 2, 3]\n",
    "for 변수 in 리스트:\n",
    "  print(\"3 x {} = {}\".format(변수, 3 * 변수))"
   ]
  },
  {
   "cell_type": "markdown",
   "id": "9de72306",
   "metadata": {},
   "source": [
    "148 리스트에는 네 개의 문자열이 바인딩돼 있다.\n",
    "\n",
    "> 리스트 = [\"가\", \"나\", \"다\", \"라\"]\n",
    "\n",
    "for문을 사용해서 다음과 같이 출력하라.\n",
    "\n",
    "> 나   \n",
    "> 다   \n",
    "> 라"
   ]
  },
  {
   "cell_type": "code",
   "execution_count": 19,
   "id": "62fded37",
   "metadata": {},
   "outputs": [
    {
     "name": "stdout",
     "output_type": "stream",
     "text": [
      "나\n",
      "다\n",
      "라\n"
     ]
    }
   ],
   "source": [
    "리스트 = [\"가\", \"나\", \"다\", \"라\"]\n",
    "for i in 리스트[1:]:\n",
    "    print(i)"
   ]
  },
  {
   "cell_type": "markdown",
   "id": "6d5b0a63",
   "metadata": {},
   "source": [
    "149 리스트에는 네 개의 문자열이 바인딩돼 있다.\n",
    "\n",
    "> 리스트 = [\"가\", \"나\", \"다\", \"라\"]\n",
    "\n",
    "for문을 사용해서 다음과 같이 출력하라.\n",
    "\n",
    "> 가   \n",
    "> 다"
   ]
  },
  {
   "cell_type": "code",
   "execution_count": 20,
   "id": "bb53ade9",
   "metadata": {},
   "outputs": [
    {
     "name": "stdout",
     "output_type": "stream",
     "text": [
      "가\n",
      "다\n"
     ]
    }
   ],
   "source": [
    "리스트 = [\"가\", \"나\", \"다\", \"라\"]\n",
    "for i in 리스트[::2]:\n",
    "    print(i)\n",
    "# 리스트 슬라이싱에서 [시작:끝:증감폭] 세번째 값은 값을 가져오는 단위를 의미했습니다."
   ]
  },
  {
   "cell_type": "markdown",
   "id": "e7187abe",
   "metadata": {},
   "source": [
    "150 리스트에는 네 개의 문자열이 바인딩돼 있다.\n",
    "\n",
    "> 리스트 = [\"가\", \"나\", \"다\", \"라\"]\n",
    "\n",
    "for문을 사용해서 다음과 같이 출력하라.\n",
    "\n",
    "> 라   \n",
    "> 다   \n",
    "> 나   \n",
    "> 가"
   ]
  },
  {
   "cell_type": "code",
   "execution_count": 21,
   "id": "aac7b908",
   "metadata": {},
   "outputs": [
    {
     "name": "stdout",
     "output_type": "stream",
     "text": [
      "라\n",
      "다\n",
      "나\n",
      "가\n"
     ]
    }
   ],
   "source": [
    "리스트 = [\"가\", \"나\", \"다\", \"라\"]\n",
    "for i in 리스트[::-1]:\n",
    "    print(i)"
   ]
  },
  {
   "cell_type": "markdown",
   "id": "40059231",
   "metadata": {},
   "source": [
    "151 리스트에는 네 개의 정수가 저장돼 있다.\n",
    "\n",
    "> 리스트 = [3, -20, -3, 44]\n",
    "\n",
    "for문을 사용해서 리스트의 음수를 출력하라.\n",
    "\n",
    "> -20   \n",
    "> -3"
   ]
  },
  {
   "cell_type": "code",
   "execution_count": 22,
   "id": "4a2befe0",
   "metadata": {},
   "outputs": [
    {
     "name": "stdout",
     "output_type": "stream",
     "text": [
      "-20\n",
      "-3\n"
     ]
    }
   ],
   "source": [
    "리스트 = [3, -20, -3, 44]\n",
    "for i in 리스트[1:3:]:\n",
    "    print(i)"
   ]
  },
  {
   "cell_type": "code",
   "execution_count": 23,
   "id": "504d01b0",
   "metadata": {},
   "outputs": [
    {
     "name": "stdout",
     "output_type": "stream",
     "text": [
      "-20\n",
      "-3\n"
     ]
    }
   ],
   "source": [
    "# 모범답안\n",
    "리스트 = [3, -20, -3, 44]\n",
    "for 변수 in 리스트:\n",
    "    if 변수 < 0:\n",
    "        print(변수)"
   ]
  },
  {
   "cell_type": "markdown",
   "id": "1a52621d",
   "metadata": {},
   "source": [
    "152 for문을 사용해서 3의 배수만을 출력하라.\n",
    "\n",
    "> 리스트 = [3, 100, 23, 44]   \n",
    "> 3"
   ]
  },
  {
   "cell_type": "code",
   "execution_count": 24,
   "id": "b17d0952",
   "metadata": {},
   "outputs": [
    {
     "name": "stdout",
     "output_type": "stream",
     "text": [
      "3\n"
     ]
    }
   ],
   "source": [
    "리스트 = [3, 100, 23, 44]\n",
    "for i in 리스트:\n",
    "    if i%3 == 0:\n",
    "        print(i)"
   ]
  },
  {
   "cell_type": "markdown",
   "id": "65d4a587",
   "metadata": {},
   "source": [
    "153 리스트에서 20 보다 작은 3의 배수를 출력하라\n",
    "\n",
    "> 리스트 = [13, 21, 12, 14, 30, 18]\n",
    "\n",
    "> 12   \n",
    "> 18   "
   ]
  },
  {
   "cell_type": "code",
   "execution_count": 25,
   "id": "05b5861f",
   "metadata": {},
   "outputs": [
    {
     "name": "stdout",
     "output_type": "stream",
     "text": [
      "12\n",
      "18\n"
     ]
    }
   ],
   "source": [
    "리스트 = [13, 21, 12, 14, 30, 18]\n",
    "for i in 리스트:\n",
    "    if i < 20 and i%3==0:\n",
    "        print(i)"
   ]
  },
  {
   "cell_type": "markdown",
   "id": "61aea422",
   "metadata": {},
   "source": [
    "154 리스트에서 세 글자 이상의 문자를 화면에 출력하라\n",
    "\n",
    "> 리스트 = [\"I\", \"study\", \"python\", \"language\", \"!\"]\n",
    "\n",
    "> study\n",
    "> python\n",
    "> language"
   ]
  },
  {
   "cell_type": "code",
   "execution_count": 26,
   "id": "4e15adbb",
   "metadata": {},
   "outputs": [
    {
     "name": "stdout",
     "output_type": "stream",
     "text": [
      "study\n",
      "python\n",
      "language\n"
     ]
    }
   ],
   "source": [
    "리스트 = [\"I\", \"study\", \"python\", \"language\", \"!\"]\n",
    "\n",
    "for i in 리스트:\n",
    "    if len(i) >= 3:\n",
    "        print(i)"
   ]
  },
  {
   "cell_type": "markdown",
   "id": "e24e2cf9",
   "metadata": {},
   "source": [
    "155 리스트에서 대문자만 화면에 출력하라.\n",
    "\n",
    "> 리스트 = [\"A\", \"b\", \"c\", \"D\"]\n",
    "\n",
    "> A   \n",
    "> D\n",
    "\n",
    "(참고) isupper() 메서드는 대문자 여부를 판별합니다.\n",
    "\n",
    "> 변수 = \"A\"    \n",
    "> 변수.isupper()    \n",
    "> True    \n",
    "\n",
    "> 변수 = \"a\"    \n",
    "> 변수.isupper()    \n",
    "> False    "
   ]
  },
  {
   "cell_type": "code",
   "execution_count": 27,
   "id": "4272febb",
   "metadata": {},
   "outputs": [
    {
     "name": "stdout",
     "output_type": "stream",
     "text": [
      "A\n",
      "D\n"
     ]
    }
   ],
   "source": [
    "리스트 = [\"A\", \"b\", \"c\", \"D\"]\n",
    "for i in 리스트:\n",
    "    if i.isupper():\n",
    "        print(i)"
   ]
  },
  {
   "cell_type": "markdown",
   "id": "a76cbfd6",
   "metadata": {},
   "source": [
    "156 리스트에서 소문자만 화면에 출력하라.\n",
    "\n",
    "> 리스트 = [\"A\", \"b\", \"c\", \"D\"]   \n",
    "> b   \n",
    "> c"
   ]
  },
  {
   "cell_type": "code",
   "execution_count": 28,
   "id": "3ad1353e",
   "metadata": {},
   "outputs": [
    {
     "name": "stdout",
     "output_type": "stream",
     "text": [
      "b\n",
      "c\n"
     ]
    }
   ],
   "source": [
    "리스트 = [\"A\", \"b\", \"c\", \"D\"]\n",
    "for i in 리스트:\n",
    "    if i.islower():\n",
    "        print(i)"
   ]
  },
  {
   "cell_type": "markdown",
   "id": "5a9e5573",
   "metadata": {},
   "source": [
    "157 이름의 첫 글자를 대문자로 변경해서 출력하라.\n",
    "\n",
    "> 리스트 = ['dog', 'cat', 'parrot']   \n",
    "> Dog   \n",
    "> Cat   \n",
    "> Parrot   \n",
    "\n",
    "(참고) upper() 메서드는 문자열을 대문자로 변경합니다.\n",
    "\n",
    "> 변수 = \"a\"   \n",
    "> a.upper()   \n",
    "> A   \n",
    "\n",
    "> 변수 = \"abc\"   \n",
    "> 변수.upper()   \n",
    "> ABC"
   ]
  },
  {
   "cell_type": "code",
   "execution_count": 29,
   "id": "0ce69fbd",
   "metadata": {},
   "outputs": [
    {
     "name": "stdout",
     "output_type": "stream",
     "text": [
      "Dog\n",
      "Cat\n",
      "Parrot\n"
     ]
    }
   ],
   "source": [
    "리스트 = ['dog', 'cat', 'parrot']\n",
    "\n",
    "for i in 리스트:\n",
    "    print(i[0].upper() + i[1:])"
   ]
  },
  {
   "cell_type": "markdown",
   "id": "f6980923",
   "metadata": {},
   "source": [
    "158 파일 이름이 저장된 리스트에서 확장자를 제거하고 파일 이름만 화면에 출력하라. (힌트: split() 메서드)\n",
    "\n",
    "> 리스트 = ['hello.py', 'ex01.py', 'intro.hwp']\n",
    "\n",
    "> hello   \n",
    "> ex01   \n",
    "> intro   "
   ]
  },
  {
   "cell_type": "code",
   "execution_count": 30,
   "id": "e2eab475",
   "metadata": {},
   "outputs": [
    {
     "name": "stdout",
     "output_type": "stream",
     "text": [
      "hello\n",
      "ex01\n",
      "intro\n"
     ]
    }
   ],
   "source": [
    "리스트 = ['hello.py', 'ex01.py', 'intro.hwp']\n",
    "for i in 리스트:\n",
    "    print(i.split('.')[0])"
   ]
  },
  {
   "cell_type": "code",
   "execution_count": 31,
   "id": "f23049af",
   "metadata": {},
   "outputs": [
    {
     "name": "stdout",
     "output_type": "stream",
     "text": [
      "hello\n",
      "ex01\n",
      "intro\n"
     ]
    }
   ],
   "source": [
    "# 모범답안\n",
    "리스트 = ['hello.py', 'ex01.py', 'intro.hwp']\n",
    "for 변수 in 리스트:\n",
    "  split = 변수.split(\".\")\n",
    "  print(split[0])  "
   ]
  },
  {
   "cell_type": "markdown",
   "id": "b97feba8",
   "metadata": {},
   "source": [
    "159 파일 이름이 저장된 리스트에서 확장자가 .h인 파일 이름을 출력하라.\n",
    "\n",
    "> 리스트 = ['intra.h', 'intra.c', 'define.h', 'run.py']\n",
    "\n",
    "> intra.h   \n",
    "> define.h"
   ]
  },
  {
   "cell_type": "code",
   "execution_count": 32,
   "id": "07168787",
   "metadata": {},
   "outputs": [
    {
     "name": "stdout",
     "output_type": "stream",
     "text": [
      "intra.h\n",
      "define.h\n"
     ]
    }
   ],
   "source": [
    "리스트 = ['intra.h', 'intra.c', 'define.h', 'run.py']\n",
    "\n",
    "for i in 리스트:\n",
    "    split = i.split(\".\")\n",
    "    if split[1] == 'h':\n",
    "        print(i)"
   ]
  },
  {
   "cell_type": "markdown",
   "id": "24ea8302",
   "metadata": {},
   "source": [
    "160 파일 이름이 저장된 리스트에서 확장자가 .h나 .c인 파일을 화면에 출력하라.\n",
    "\n",
    "> 리스트 = ['intra.h', 'intra.c', 'define.h', 'run.py']\n",
    "\n",
    "> intra.h   \n",
    "> intra.c   \n",
    "> define.h"
   ]
  },
  {
   "cell_type": "code",
   "execution_count": 33,
   "id": "5a24aab1",
   "metadata": {},
   "outputs": [
    {
     "name": "stdout",
     "output_type": "stream",
     "text": [
      "intra.h\n",
      "intra.c\n",
      "define.h\n"
     ]
    }
   ],
   "source": [
    "리스트 = ['intra.h', 'intra.c', 'define.h', 'run.py']\n",
    "\n",
    "for i in 리스트:\n",
    "    split = i.split(\".\")\n",
    "    if (split[1] == 'h') | (split[1] == 'c'):\n",
    "        print(i)"
   ]
  },
  {
   "cell_type": "markdown",
   "id": "cb071a62",
   "metadata": {},
   "source": [
    "161 for문과 range 구문을 사용해서 0~99까지 한 라인에 하나씩 순차적으로 출력하는 프로그램을 작성하라.\n"
   ]
  },
  {
   "cell_type": "code",
   "execution_count": 34,
   "id": "ba2e98bf",
   "metadata": {},
   "outputs": [
    {
     "name": "stdout",
     "output_type": "stream",
     "text": [
      "0\n",
      "1\n",
      "2\n",
      "3\n",
      "4\n",
      "5\n",
      "6\n",
      "7\n",
      "8\n",
      "9\n",
      "10\n",
      "11\n",
      "12\n",
      "13\n",
      "14\n",
      "15\n",
      "16\n",
      "17\n",
      "18\n",
      "19\n",
      "20\n",
      "21\n",
      "22\n",
      "23\n",
      "24\n",
      "25\n",
      "26\n",
      "27\n",
      "28\n",
      "29\n",
      "30\n",
      "31\n",
      "32\n",
      "33\n",
      "34\n",
      "35\n",
      "36\n",
      "37\n",
      "38\n",
      "39\n",
      "40\n",
      "41\n",
      "42\n",
      "43\n",
      "44\n",
      "45\n",
      "46\n",
      "47\n",
      "48\n",
      "49\n",
      "50\n",
      "51\n",
      "52\n",
      "53\n",
      "54\n",
      "55\n",
      "56\n",
      "57\n",
      "58\n",
      "59\n",
      "60\n",
      "61\n",
      "62\n",
      "63\n",
      "64\n",
      "65\n",
      "66\n",
      "67\n",
      "68\n",
      "69\n",
      "70\n",
      "71\n",
      "72\n",
      "73\n",
      "74\n",
      "75\n",
      "76\n",
      "77\n",
      "78\n",
      "79\n",
      "80\n",
      "81\n",
      "82\n",
      "83\n",
      "84\n",
      "85\n",
      "86\n",
      "87\n",
      "88\n",
      "89\n",
      "90\n",
      "91\n",
      "92\n",
      "93\n",
      "94\n",
      "95\n",
      "96\n",
      "97\n",
      "98\n",
      "99\n"
     ]
    }
   ],
   "source": [
    "for i in range(100):\n",
    "    print(i)"
   ]
  },
  {
   "cell_type": "markdown",
   "id": "0a6a5e11",
   "metadata": {},
   "source": [
    "162 월드컵은 4년에 한 번 개최된다. range()를 사용하여 2002~2050년까지 중 월드컵이 개최되는 연도를 출력하라.   \n",
    "\n",
    "참고) range의 세번 째 파라미터는 증감폭을 결정합니다.\n",
    "\n",
    "> print(list(range(0, 10, 2)))   \n",
    "[0, 2, 4, 6, 8]"
   ]
  },
  {
   "cell_type": "code",
   "execution_count": 35,
   "id": "e333d756",
   "metadata": {},
   "outputs": [
    {
     "name": "stdout",
     "output_type": "stream",
     "text": [
      "2002\n",
      "2006\n",
      "2010\n",
      "2014\n",
      "2018\n",
      "2022\n",
      "2026\n",
      "2030\n",
      "2034\n",
      "2038\n",
      "2042\n",
      "2046\n",
      "2050\n"
     ]
    }
   ],
   "source": [
    "for i in range(2002,2051, 4):\n",
    "    print(i)"
   ]
  },
  {
   "cell_type": "code",
   "execution_count": 36,
   "id": "04ed5e41",
   "metadata": {
    "scrolled": true
   },
   "outputs": [
    {
     "name": "stdout",
     "output_type": "stream",
     "text": [
      "3\n",
      "6\n",
      "9\n",
      "12\n",
      "15\n",
      "18\n",
      "21\n",
      "24\n",
      "27\n",
      "30\n"
     ]
    }
   ],
   "source": [
    "# 163 1부터 30까지의 숫자 중 3의 배수를 출력하라.\n",
    "for i in range(1,31):\n",
    "    if i % 3 == 0:\n",
    "        print(i)"
   ]
  },
  {
   "cell_type": "code",
   "execution_count": 37,
   "id": "d6fe9351",
   "metadata": {},
   "outputs": [
    {
     "name": "stdout",
     "output_type": "stream",
     "text": [
      "3\n",
      "6\n",
      "9\n",
      "12\n",
      "15\n",
      "18\n",
      "21\n",
      "24\n",
      "27\n",
      "30\n"
     ]
    }
   ],
   "source": [
    "# 모범답안\n",
    "for num in range(3, 31, 3):\n",
    "    print (num)"
   ]
  },
  {
   "cell_type": "code",
   "execution_count": 38,
   "id": "5807781b",
   "metadata": {},
   "outputs": [
    {
     "name": "stdout",
     "output_type": "stream",
     "text": [
      "99\n",
      "98\n",
      "97\n",
      "96\n",
      "95\n",
      "94\n",
      "93\n",
      "92\n",
      "91\n",
      "90\n",
      "89\n",
      "88\n",
      "87\n",
      "86\n",
      "85\n",
      "84\n",
      "83\n",
      "82\n",
      "81\n",
      "80\n",
      "79\n",
      "78\n",
      "77\n",
      "76\n",
      "75\n",
      "74\n",
      "73\n",
      "72\n",
      "71\n",
      "70\n",
      "69\n",
      "68\n",
      "67\n",
      "66\n",
      "65\n",
      "64\n",
      "63\n",
      "62\n",
      "61\n",
      "60\n",
      "59\n",
      "58\n",
      "57\n",
      "56\n",
      "55\n",
      "54\n",
      "53\n",
      "52\n",
      "51\n",
      "50\n",
      "49\n",
      "48\n",
      "47\n",
      "46\n",
      "45\n",
      "44\n",
      "43\n",
      "42\n",
      "41\n",
      "40\n",
      "39\n",
      "38\n",
      "37\n",
      "36\n",
      "35\n",
      "34\n",
      "33\n",
      "32\n",
      "31\n",
      "30\n",
      "29\n",
      "28\n",
      "27\n",
      "26\n",
      "25\n",
      "24\n",
      "23\n",
      "22\n",
      "21\n",
      "20\n",
      "19\n",
      "18\n",
      "17\n",
      "16\n",
      "15\n",
      "14\n",
      "13\n",
      "12\n",
      "11\n",
      "10\n",
      "9\n",
      "8\n",
      "7\n",
      "6\n",
      "5\n",
      "4\n",
      "3\n",
      "2\n",
      "1\n"
     ]
    }
   ],
   "source": [
    "# 164 99부터 0까지 1씩 감소하는 숫자들을, 한 라인에 하나씩 출력하라.\n",
    "for i in range(99,0,-1):\n",
    "    print(i)"
   ]
  },
  {
   "cell_type": "code",
   "execution_count": 39,
   "id": "b9504234",
   "metadata": {},
   "outputs": [
    {
     "name": "stdout",
     "output_type": "stream",
     "text": [
      "99\n",
      "98\n",
      "97\n",
      "96\n",
      "95\n",
      "94\n",
      "93\n",
      "92\n",
      "91\n",
      "90\n",
      "89\n",
      "88\n",
      "87\n",
      "86\n",
      "85\n",
      "84\n",
      "83\n",
      "82\n",
      "81\n",
      "80\n",
      "79\n",
      "78\n",
      "77\n",
      "76\n",
      "75\n",
      "74\n",
      "73\n",
      "72\n",
      "71\n",
      "70\n",
      "69\n",
      "68\n",
      "67\n",
      "66\n",
      "65\n",
      "64\n",
      "63\n",
      "62\n",
      "61\n",
      "60\n",
      "59\n",
      "58\n",
      "57\n",
      "56\n",
      "55\n",
      "54\n",
      "53\n",
      "52\n",
      "51\n",
      "50\n",
      "49\n",
      "48\n",
      "47\n",
      "46\n",
      "45\n",
      "44\n",
      "43\n",
      "42\n",
      "41\n",
      "40\n",
      "39\n",
      "38\n",
      "37\n",
      "36\n",
      "35\n",
      "34\n",
      "33\n",
      "32\n",
      "31\n",
      "30\n",
      "29\n",
      "28\n",
      "27\n",
      "26\n",
      "25\n",
      "24\n",
      "23\n",
      "22\n",
      "21\n",
      "20\n",
      "19\n",
      "18\n",
      "17\n",
      "16\n",
      "15\n",
      "14\n",
      "13\n",
      "12\n",
      "11\n",
      "10\n",
      "9\n",
      "8\n",
      "7\n",
      "6\n",
      "5\n",
      "4\n",
      "3\n",
      "2\n",
      "1\n",
      "0\n"
     ]
    }
   ],
   "source": [
    "# 모범답안\n",
    "for i in range(100):\n",
    "    print(99 - i)"
   ]
  },
  {
   "cell_type": "markdown",
   "id": "3182e96b",
   "metadata": {},
   "source": [
    "165 for문을 사용해서 아래와 같이 출력하라.\n",
    "> 0.0   \n",
    "0.1         \n",
    "0.2   \n",
    "0.3   \n",
    "0.4   \n",
    "0.5   \n",
    "...   \n",
    "0.9   "
   ]
  },
  {
   "cell_type": "code",
   "execution_count": 40,
   "id": "b2a66a65",
   "metadata": {},
   "outputs": [
    {
     "name": "stdout",
     "output_type": "stream",
     "text": [
      "0.0\n",
      "0.1\n",
      "0.2\n",
      "0.3\n",
      "0.4\n",
      "0.5\n",
      "0.6\n",
      "0.7\n",
      "0.8\n",
      "0.9\n"
     ]
    }
   ],
   "source": [
    "for num in range(10) :\n",
    "    print(num / 10)"
   ]
  },
  {
   "cell_type": "markdown",
   "id": "ae66bc5c",
   "metadata": {},
   "source": [
    "166 구구단 3단을 출력하라.\n",
    "\n",
    "> 3x1 = 3   \n",
    "3x2 = 6      \n",
    "3x3 = 9   \n",
    "3x4 = 12   \n",
    "3x5 = 15   \n",
    "3x6 = 18   \n",
    "3x7 = 21   \n",
    "3x8 = 24   \n",
    "3x9 = 27   "
   ]
  },
  {
   "cell_type": "code",
   "execution_count": 41,
   "id": "62c02248",
   "metadata": {},
   "outputs": [
    {
     "name": "stdout",
     "output_type": "stream",
     "text": [
      "3x1 = 3\n",
      "3x2 = 6\n",
      "3x3 = 9\n",
      "3x4 = 12\n",
      "3x5 = 15\n",
      "3x6 = 18\n",
      "3x7 = 21\n",
      "3x8 = 24\n",
      "3x9 = 27\n"
     ]
    }
   ],
   "source": [
    "for i in range(1,10):\n",
    "    print('3x{} = {}'.format(i, i*3))"
   ]
  },
  {
   "cell_type": "markdown",
   "id": "784825f7",
   "metadata": {},
   "source": [
    "167 구구단 3단을 출력하라. 단 홀수 번째만 출력한다.\n",
    "\n",
    "> 3x1 = 3   \n",
    "3x3 = 9   \n",
    "3x5 = 15   \n",
    "3x7 = 21   \n",
    "3x9 = 27   "
   ]
  },
  {
   "cell_type": "code",
   "execution_count": 42,
   "id": "5ca85c4d",
   "metadata": {},
   "outputs": [
    {
     "name": "stdout",
     "output_type": "stream",
     "text": [
      "3x1 = 3\n",
      "3x3 = 9\n",
      "3x5 = 15\n",
      "3x7 = 21\n",
      "3x9 = 27\n"
     ]
    }
   ],
   "source": [
    "for i in range(1,10,2):\n",
    "    print('3x{} = {}'.format(i, i*3))"
   ]
  },
  {
   "cell_type": "markdown",
   "id": "42c6f079",
   "metadata": {},
   "source": [
    "168 1~10까지의 숫자에 대해 모두 더한 값을 출력하는 프로그램을 for 문을 사용하여 작성하라.\n",
    "\n",
    "> 합 : 55"
   ]
  },
  {
   "cell_type": "code",
   "execution_count": 43,
   "id": "579c9eb1",
   "metadata": {},
   "outputs": [
    {
     "name": "stdout",
     "output_type": "stream",
     "text": [
      "합: 55\n"
     ]
    }
   ],
   "source": [
    "plus = 0\n",
    "for i in range(1,11):\n",
    "    plus+=i\n",
    "print(\"합:\",plus)"
   ]
  },
  {
   "cell_type": "markdown",
   "id": "61d9ba0b",
   "metadata": {},
   "source": [
    "169 1~10까지의 숫자 중 모든 홀수의 합을 출력하는 프로그램을 for 문을 사용하여 작성하라.\n",
    "\n",
    "> 합: 25"
   ]
  },
  {
   "cell_type": "code",
   "execution_count": 44,
   "id": "1bd1c228",
   "metadata": {},
   "outputs": [
    {
     "name": "stdout",
     "output_type": "stream",
     "text": [
      "합: 25\n"
     ]
    }
   ],
   "source": [
    "plus = 0\n",
    "for i in range(1,11,2):\n",
    "    plus+=i\n",
    "print(\"합:\",plus)"
   ]
  },
  {
   "cell_type": "markdown",
   "id": "8df4f61c",
   "metadata": {},
   "source": [
    "170 1~10까지의 숫자를 모두 곱한 값을 출력하는 프로그램을 for 문을 사용하여 작성하라."
   ]
  },
  {
   "cell_type": "code",
   "execution_count": 45,
   "id": "a4c2bf4e",
   "metadata": {},
   "outputs": [
    {
     "name": "stdout",
     "output_type": "stream",
     "text": [
      "곱: 3628800\n"
     ]
    }
   ],
   "source": [
    "mul = 1\n",
    "for i in range(1,11):\n",
    "    mul*=i\n",
    "print(\"곱:\", mul)"
   ]
  }
 ],
 "metadata": {
  "kernelspec": {
   "display_name": "Python 3",
   "language": "python",
   "name": "python3"
  },
  "language_info": {
   "codemirror_mode": {
    "name": "ipython",
    "version": 3
   },
   "file_extension": ".py",
   "mimetype": "text/x-python",
   "name": "python",
   "nbconvert_exporter": "python",
   "pygments_lexer": "ipython3",
   "version": "3.8.8"
  }
 },
 "nbformat": 4,
 "nbformat_minor": 5
}
