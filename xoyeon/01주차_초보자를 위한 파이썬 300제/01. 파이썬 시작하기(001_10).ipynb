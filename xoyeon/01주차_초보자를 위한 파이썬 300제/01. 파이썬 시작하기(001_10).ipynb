{
 "cells": [
  {
   "cell_type": "code",
   "execution_count": 1,
   "id": "e8b05ff0",
   "metadata": {},
   "outputs": [
    {
     "name": "stdout",
     "output_type": "stream",
     "text": [
      "Hello World\n"
     ]
    }
   ],
   "source": [
    "# 001 print 기초\n",
    "# 화면에 Hello World 문자열을 출력하세요.\n",
    "print(\"Hello World\")"
   ]
  },
  {
   "cell_type": "code",
   "execution_count": 2,
   "id": "94fb13fe",
   "metadata": {},
   "outputs": [
    {
     "name": "stdout",
     "output_type": "stream",
     "text": [
      "Mary's cosmetics\n"
     ]
    }
   ],
   "source": [
    "# 002 print 기초\n",
    "# 화면에 Mary's cosmetics을 출력하세요. (중간에 '가 있음에 주의하세요)\n",
    "print(\"Mary's cosmetics\")"
   ]
  },
  {
   "cell_type": "code",
   "execution_count": 3,
   "id": "5db3ca87",
   "metadata": {},
   "outputs": [
    {
     "name": "stdout",
     "output_type": "stream",
     "text": [
      "신씨가 소리질렀다. \"도둑이야\"\n"
     ]
    }
   ],
   "source": [
    "# 003 print 기초\n",
    "# 화면에 아래 문장을 출력하세요. (중간에 \"가 있음에 주의하세요.)\n",
    "# 신씨가 소리질렀다. \"도둑이야\".\n",
    "print('신씨가 소리질렀다. \"도둑이야\"')"
   ]
  },
  {
   "cell_type": "code",
   "execution_count": 4,
   "id": "1944f271",
   "metadata": {},
   "outputs": [
    {
     "name": "stdout",
     "output_type": "stream",
     "text": [
      "C:\\Windows\n"
     ]
    }
   ],
   "source": [
    "# 004 print 기초\n",
    "# 화면에 \"C:\\Windows\"를 출력하세요.\n",
    "print(\"C:\\Windows\")"
   ]
  },
  {
   "cell_type": "code",
   "execution_count": 5,
   "id": "9229278b",
   "metadata": {},
   "outputs": [
    {
     "name": "stdout",
     "output_type": "stream",
     "text": [
      "안녕하세요.\n",
      "만나서\t\t반갑습니다.\n"
     ]
    }
   ],
   "source": [
    "# 005 print 탭과 줄바꿈\n",
    "# 다음 코드를 실행해보고 \\t와 \\n의 역할을 설명해보세요.\n",
    "print(\"안녕하세요.\\n만나서\\t\\t반갑습니다.\")\n",
    "# \\n은 줄바꿈, \\t는 탭"
   ]
  },
  {
   "cell_type": "code",
   "execution_count": 6,
   "id": "2e0bd523",
   "metadata": {},
   "outputs": [
    {
     "name": "stdout",
     "output_type": "stream",
     "text": [
      "오늘은 일요일\n"
     ]
    }
   ],
   "source": [
    "# 006 print 여러 데이터 출력\n",
    "# print 함수에 두 개의 단어를 입력한 예제입니다. 아래 코드의 출력 결과를 예상해봅시다.\n",
    "print (\"오늘은\", \"일요일\")"
   ]
  },
  {
   "cell_type": "code",
   "execution_count": 7,
   "id": "775581e7",
   "metadata": {},
   "outputs": [
    {
     "name": "stdout",
     "output_type": "stream",
     "text": [
      "naver;kakao;sk;samsung\n"
     ]
    }
   ],
   "source": [
    "# 007 print 기초\n",
    "# print() 함수를 사용하여 다음과 같이 출력하세요.\n",
    "# naver;kakao;sk;samsung\n",
    "print(\"naver\",\"kakao\",\"sk\",\"samsung\", sep=\";\")"
   ]
  },
  {
   "cell_type": "code",
   "execution_count": 8,
   "id": "de564634",
   "metadata": {},
   "outputs": [
    {
     "name": "stdout",
     "output_type": "stream",
     "text": [
      "naver/kakao/sk/samsung\n"
     ]
    }
   ],
   "source": [
    "# 008 print 기초\n",
    "# print() 함수를 사용하여 다음과 같이 출력하세요.\n",
    "# naver/kakao/sk/samsung\n",
    "print(\"naver\",\"kakao\",\"sk\",\"samsung\", sep=\"/\")"
   ]
  },
  {
   "cell_type": "code",
   "execution_count": 9,
   "id": "a2525674",
   "metadata": {},
   "outputs": [
    {
     "name": "stdout",
     "output_type": "stream",
     "text": [
      "firstsecond\n"
     ]
    }
   ],
   "source": [
    "# 009 print 줄바꿈\n",
    "# 다음 코드를 수정하여 줄바꿈이 없이 출력하세요.\n",
    "# (힌트: end='') print 함수는 두 번 사용합니다. 세미콜론 (;)은 한줄에 여러 개의 명령을 작성하기 위해 사용합니다.\n",
    "# print(\"first\");print(\"second\")\n",
    "print(\"first\", end='');print(\"second\")"
   ]
  },
  {
   "cell_type": "code",
   "execution_count": 10,
   "id": "7b812876",
   "metadata": {},
   "outputs": [
    {
     "name": "stdout",
     "output_type": "stream",
     "text": [
      "1.6666666666666667\n"
     ]
    }
   ],
   "source": [
    "# 010 연산 결과 출력\n",
    "# 5/3의 결과를 화면에 출력하세요.\n",
    "print(5/3)"
   ]
  }
 ],
 "metadata": {
  "kernelspec": {
   "display_name": "Python 3",
   "language": "python",
   "name": "python3"
  },
  "language_info": {
   "codemirror_mode": {
    "name": "ipython",
    "version": 3
   },
   "file_extension": ".py",
   "mimetype": "text/x-python",
   "name": "python",
   "nbconvert_exporter": "python",
   "pygments_lexer": "ipython3",
   "version": "3.8.8"
  }
 },
 "nbformat": 4,
 "nbformat_minor": 5
}
